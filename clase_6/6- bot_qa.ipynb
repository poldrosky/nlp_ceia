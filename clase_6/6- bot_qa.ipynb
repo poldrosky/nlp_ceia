{
 "cells": [
  {
   "cell_type": "markdown",
   "metadata": {
    "id": "pfa39F4lsLf3"
   },
   "source": [
    "<img src=\"https://github.com/hernancontigiani/ceia_memorias_especializacion/raw/master/Figures/logoFIUBA.jpg\" width=\"500\" align=\"center\">\n",
    "\n",
    "\n",
    "# Procesamiento de lenguaje natural\n",
    "## LSTM Bot QA"
   ]
  },
  {
   "cell_type": "markdown",
   "metadata": {
    "id": "ZqO0PRcFsPTe"
   },
   "source": [
    "### Datos\n",
    "El objecto es utilizar datos disponibles del challenge ConvAI2 (Conversational Intelligence Challenge 2) de conversaciones en inglés. Se construirá un BOT para responder a preguntas del usuario (QA).\\\n",
    "[LINK](http://convai.io/data/)"
   ]
  },
  {
   "cell_type": "code",
   "execution_count": 1,
   "metadata": {
    "id": "bDFC0I3j9oFD"
   },
   "outputs": [],
   "source": [
    "# !pip install --upgrade --no-cache-dir gdown --quiet"
   ]
  },
  {
   "cell_type": "code",
   "execution_count": 2,
   "metadata": {
    "id": "cq3YXak9sGHd"
   },
   "outputs": [],
   "source": [
    "import re\n",
    "\n",
    "import numpy as np\n",
    "import pandas as pd\n",
    "\n",
    "import tensorflow as tf\n",
    "from keras.preprocessing.text import one_hot\n",
    "from tensorflow.keras.utils import pad_sequences\n",
    "from keras.models import Sequential\n",
    "from keras.layers.core import Activation, Dropout, Dense\n",
    "from keras.layers import Flatten, LSTM, SimpleRNN\n",
    "from keras.models import Model\n",
    "from tensorflow.keras.layers import Embedding\n",
    "from sklearn.model_selection import train_test_split\n",
    "from keras.preprocessing.text import Tokenizer\n",
    "from keras.layers import Input"
   ]
  },
  {
   "cell_type": "code",
   "execution_count": 3,
   "metadata": {
    "id": "RHNkUaPp6aYq"
   },
   "outputs": [
    {
     "name": "stdout",
     "output_type": "stream",
     "text": [
      "El dataset ya se encuentra descargado\n"
     ]
    }
   ],
   "source": [
    "# Descargar la carpeta de dataset\n",
    "import os\n",
    "import gdown\n",
    "if os.access('data_volunteers.json', os.F_OK) is False:\n",
    "    url = 'https://drive.google.com/uc?id=1awUxYwImF84MIT5-jCaYAPe2QwSgS1hN&export=download'\n",
    "    output = 'data_volunteers.json'\n",
    "    gdown.download(url, output, quiet=False)\n",
    "else:\n",
    "    print(\"El dataset ya se encuentra descargado\")"
   ]
  },
  {
   "cell_type": "code",
   "execution_count": 4,
   "metadata": {
    "id": "WZy1-wgG-Rp7"
   },
   "outputs": [],
   "source": [
    "# dataset_file\n",
    "import json\n",
    "\n",
    "text_file = \"data_volunteers.json\"\n",
    "with open(text_file) as f:\n",
    "    data = json.load(f) # la variable data será un diccionario\n",
    "\n"
   ]
  },
  {
   "cell_type": "code",
   "execution_count": 5,
   "metadata": {
    "id": "ue5qd54S-eew"
   },
   "outputs": [
    {
     "data": {
      "text/plain": [
       "dict_keys(['dialog', 'start_time', 'end_time', 'bot_profile', 'user_profile', 'eval_score', 'profile_match', 'participant1_id', 'participant2_id'])"
      ]
     },
     "execution_count": 5,
     "metadata": {},
     "output_type": "execute_result"
    }
   ],
   "source": [
    "# Observar los campos disponibles en cada linea del dataset\n",
    "data[0].keys()"
   ]
  },
  {
   "cell_type": "code",
   "execution_count": 6,
   "metadata": {
    "id": "jHBRAXPl-3dz"
   },
   "outputs": [
    {
     "name": "stdout",
     "output_type": "stream",
     "text": [
      "Cantidad de rows utilizadas: 6033\n"
     ]
    }
   ],
   "source": [
    "chat_in = []\n",
    "chat_out = []\n",
    "\n",
    "input_sentences = []\n",
    "output_sentences = []\n",
    "output_sentences_inputs = []\n",
    "max_len = 30\n",
    "\n",
    "def clean_text(txt):\n",
    "    txt = txt.lower()    \n",
    "    txt.replace(\"\\'d\", \" had\")\n",
    "    txt.replace(\"\\'s\", \" is\")\n",
    "    txt.replace(\"\\'m\", \" am\")\n",
    "    txt.replace(\"don't\", \"do not\")\n",
    "    txt = re.sub(r'\\W+', ' ', txt)\n",
    "    \n",
    "    return txt\n",
    "\n",
    "for line in data:\n",
    "    for i in range(len(line['dialog'])-1):\n",
    "        # vamos separando el texto en \"preguntas\" (chat_in)\n",
    "        # y \"respuestas\" (chat_out)\n",
    "        chat_in = clean_text(line['dialog'][i]['text'])\n",
    "        chat_out = clean_text(line['dialog'][i+1]['text'])\n",
    "\n",
    "        if len(chat_in) >= max_len or len(chat_out) >= max_len:\n",
    "            continue\n",
    "\n",
    "        input_sentence, output = chat_in, chat_out\n",
    "        \n",
    "        # output sentence (decoder_output) tiene <eos>\n",
    "        output_sentence = output + ' <eos>'\n",
    "        # output sentence input (decoder_input) tiene <sos>\n",
    "        output_sentence_input = '<sos> ' + output\n",
    "\n",
    "        input_sentences.append(input_sentence)\n",
    "        output_sentences.append(output_sentence)\n",
    "        output_sentences_inputs.append(output_sentence_input)\n",
    "\n",
    "print(\"Cantidad de rows utilizadas:\", len(input_sentences))"
   ]
  },
  {
   "cell_type": "code",
   "execution_count": 7,
   "metadata": {
    "id": "07L1qj8pC_l6"
   },
   "outputs": [
    {
     "data": {
      "text/plain": [
       "('hi how are you ', 'not bad and you  <eos>', '<sos> not bad and you ')"
      ]
     },
     "execution_count": 7,
     "metadata": {},
     "output_type": "execute_result"
    }
   ],
   "source": [
    "input_sentences[1], output_sentences[1], output_sentences_inputs[1]"
   ]
  },
  {
   "cell_type": "markdown",
   "metadata": {
    "id": "8P-ynUNP5xp6"
   },
   "source": [
    "### 2 - Preprocesamiento\n",
    "Realizar el preprocesamiento necesario para obtener:\n",
    "- word2idx_inputs, max_input_len\n",
    "- word2idx_outputs, max_out_len, num_words_output\n",
    "- encoder_input_sequences, decoder_output_sequences, decoder_targets"
   ]
  },
  {
   "cell_type": "code",
   "execution_count": 8,
   "metadata": {},
   "outputs": [],
   "source": [
    "# Definir el tamaño máximo del vocabulario\n",
    "MAX_VOCAB_SIZE = 8000"
   ]
  },
  {
   "cell_type": "code",
   "execution_count": 9,
   "metadata": {},
   "outputs": [
    {
     "name": "stdout",
     "output_type": "stream",
     "text": [
      "[Inputs] Palabras en el vocabulario: 2157\n",
      "Sentencia de entrada más larga: 9\n",
      "[Outputs] Palabras en el vocabulario: 2157\n",
      "Sentencia de salida más larga: 10\n"
     ]
    }
   ],
   "source": [
    "from keras.preprocessing.text import Tokenizer\n",
    "\n",
    "tokenizer = Tokenizer(num_words=MAX_VOCAB_SIZE, filters='!\"#$%&()*+,-./:;=¿?@[\\\\]^_`{|}~\\t\\n')\n",
    "tokenizer.fit_on_texts(input_sentences + output_sentences + [\"<sos>\", \"<eos>\"])\n",
    "input_integer_seq = tokenizer.texts_to_sequences(input_sentences)\n",
    "output_integer_seq = tokenizer.texts_to_sequences(output_sentences)\n",
    "output_input_integer_seq = tokenizer.texts_to_sequences(output_sentences_inputs)\n",
    "\n",
    "word2idx_inputs = tokenizer.word_index\n",
    "print(\"[Inputs] Palabras en el vocabulario:\", len(word2idx_inputs))\n",
    "\n",
    "max_input_len = max(len(sen) for sen in input_integer_seq)\n",
    "print(\"Sentencia de entrada más larga:\", max_input_len)\n",
    "\n",
    "word2idx_outputs = tokenizer.word_index\n",
    "print(\"[Outputs] Palabras en el vocabulario:\", len(word2idx_outputs))\n",
    "num_words_output = min(len(word2idx_outputs) + 1, MAX_VOCAB_SIZE) \n",
    "\n",
    "max_out_len = max(len(sen) for sen in output_integer_seq)\n",
    "print(\"Sentencia de salida más larga:\", max_out_len)"
   ]
  },
  {
   "cell_type": "code",
   "execution_count": 10,
   "metadata": {},
   "outputs": [],
   "source": [
    "# Por una cuestion de que no explote la RAM se limitará el tamaño de las sentencias de entrada\n",
    "# a la mitad:\n",
    "max_input_len = 10\n",
    "max_out_len = 10"
   ]
  },
  {
   "cell_type": "code",
   "execution_count": 11,
   "metadata": {},
   "outputs": [
    {
     "name": "stdout",
     "output_type": "stream",
     "text": [
      "Cantidad de rows del dataset: 6033\n",
      "encoder_input_sequences shape: (6033, 10)\n",
      "decoder_input_sequences shape: (6033, 10)\n"
     ]
    }
   ],
   "source": [
    "print(\"Cantidad de rows del dataset:\", len(input_integer_seq))\n",
    "\n",
    "encoder_input_sequences = pad_sequences(input_integer_seq, maxlen=max_input_len)\n",
    "print(\"encoder_input_sequences shape:\", encoder_input_sequences.shape)\n",
    "\n",
    "decoder_input_sequences = pad_sequences(output_input_integer_seq, maxlen=max_out_len, padding='post')\n",
    "print(\"decoder_input_sequences shape:\", decoder_input_sequences.shape)"
   ]
  },
  {
   "cell_type": "code",
   "execution_count": 12,
   "metadata": {},
   "outputs": [
    {
     "data": {
      "text/plain": [
       "(6033, 10, 2158)"
      ]
     },
     "execution_count": 12,
     "metadata": {},
     "output_type": "execute_result"
    }
   ],
   "source": [
    "from keras.utils.np_utils import to_categorical\n",
    "decoder_output_sequences = pad_sequences(output_integer_seq, maxlen=max_out_len, padding='post')\n",
    "decoder_targets = to_categorical(decoder_output_sequences, num_classes=num_words_output)\n",
    "decoder_targets.shape"
   ]
  },
  {
   "cell_type": "markdown",
   "metadata": {
    "id": "_CJIsLBbj6rg"
   },
   "source": [
    "### 3 - Preparar los embeddings\n",
    "Utilizar los embeddings de Glove o FastText para transformar los tokens de entrada en vectores"
   ]
  },
  {
   "cell_type": "code",
   "execution_count": 13,
   "metadata": {},
   "outputs": [
    {
     "name": "stdout",
     "output_type": "stream",
     "text": [
      "Los embeddings gloveembedding.pkl ya están descargados\n"
     ]
    }
   ],
   "source": [
    "import os\n",
    "import gdown\n",
    "if os.access('gloveembedding.pkl', os.F_OK) is False:\n",
    "    url = 'https://drive.google.com/uc?id=1KY6avD5I1eI2dxQzMkR3WExwKwRq2g94&export=download'\n",
    "    output = 'gloveembedding.pkl'\n",
    "    gdown.download(url, output, quiet=False)\n",
    "else:\n",
    "    print(\"Los embeddings gloveembedding.pkl ya están descargados\")"
   ]
  },
  {
   "cell_type": "code",
   "execution_count": 14,
   "metadata": {},
   "outputs": [],
   "source": [
    "import logging\n",
    "import os\n",
    "from pathlib import Path\n",
    "from io import StringIO\n",
    "import pickle\n",
    "\n",
    "class WordsEmbeddings(object):\n",
    "    logger = logging.getLogger(__name__)\n",
    "\n",
    "    def __init__(self):\n",
    "        # load the embeddings\n",
    "        words_embedding_pkl = Path(self.PKL_PATH)\n",
    "        if not words_embedding_pkl.is_file():\n",
    "            words_embedding_txt = Path(self.WORD_TO_VEC_MODEL_TXT_PATH)\n",
    "            assert words_embedding_txt.is_file(), 'Words embedding not available'\n",
    "            embeddings = self.convert_model_to_pickle()\n",
    "        else:\n",
    "            embeddings = self.load_model_from_pickle()\n",
    "        self.embeddings = embeddings\n",
    "        # build the vocabulary hashmap\n",
    "        index = np.arange(self.embeddings.shape[0])\n",
    "        # Dicctionarios para traducir de embedding a IDX de la palabra\n",
    "        self.word2idx = dict(zip(self.embeddings['word'], index))\n",
    "        self.idx2word = dict(zip(index, self.embeddings['word']))\n",
    "\n",
    "    def get_words_embeddings(self, words):\n",
    "        words_idxs = self.words2idxs(words)\n",
    "        return self.embeddings[words_idxs]['embedding']\n",
    "\n",
    "    def words2idxs(self, words):\n",
    "        return np.array([self.word2idx.get(word, -1) for word in words])\n",
    "\n",
    "    def idxs2words(self, idxs):\n",
    "        return np.array([self.idx2word.get(idx, '-1') for idx in idxs])\n",
    "\n",
    "    def load_model_from_pickle(self):\n",
    "        self.logger.debug(\n",
    "            'loading words embeddings from pickle {}'.format(\n",
    "                self.PKL_PATH\n",
    "            )\n",
    "        )\n",
    "        max_bytes = 2**28 - 1 # 256MB\n",
    "        bytes_in = bytearray(0)\n",
    "        input_size = os.path.getsize(self.PKL_PATH)\n",
    "        with open(self.PKL_PATH, 'rb') as f_in:\n",
    "            for _ in range(0, input_size, max_bytes):\n",
    "                bytes_in += f_in.read(max_bytes)\n",
    "        embeddings = pickle.loads(bytes_in)\n",
    "        self.logger.debug('words embeddings loaded')\n",
    "        return embeddings\n",
    "\n",
    "    def convert_model_to_pickle(self):\n",
    "        # create a numpy strctured array:\n",
    "        # word     embedding\n",
    "        # U50      np.float32[]\n",
    "        # word_1   a, b, c\n",
    "        # word_2   d, e, f\n",
    "        # ...\n",
    "        # word_n   g, h, i\n",
    "        self.logger.debug(\n",
    "            'converting and loading words embeddings from text file {}'.format(\n",
    "                self.WORD_TO_VEC_MODEL_TXT_PATH\n",
    "            )\n",
    "        )\n",
    "        structure = [('word', np.dtype('U' + str(self.WORD_MAX_SIZE))),\n",
    "                     ('embedding', np.float32, (self.N_FEATURES,))]\n",
    "        structure = np.dtype(structure)\n",
    "        # load numpy array from disk using a generator\n",
    "        with open(self.WORD_TO_VEC_MODEL_TXT_PATH, encoding=\"utf8\") as words_embeddings_txt:\n",
    "            embeddings_gen = (\n",
    "                (line.split()[0], line.split()[1:]) for line in words_embeddings_txt\n",
    "                if len(line.split()[1:]) == self.N_FEATURES\n",
    "            )\n",
    "            embeddings = np.fromiter(embeddings_gen, structure)\n",
    "        # add a null embedding\n",
    "        null_embedding = np.array(\n",
    "            [('null_embedding', np.zeros((self.N_FEATURES,), dtype=np.float32))],\n",
    "            dtype=structure\n",
    "        )\n",
    "        embeddings = np.concatenate([embeddings, null_embedding])\n",
    "        # dump numpy array to disk using pickle\n",
    "        max_bytes = 2**28 - 1 # # 256MB\n",
    "        bytes_out = pickle.dumps(embeddings, protocol=pickle.HIGHEST_PROTOCOL)\n",
    "        with open(self.PKL_PATH, 'wb') as f_out:\n",
    "            for idx in range(0, len(bytes_out), max_bytes):\n",
    "                f_out.write(bytes_out[idx:idx+max_bytes])\n",
    "        self.logger.debug('words embeddings loaded')\n",
    "        return embeddings\n",
    "\n",
    "\n",
    "class GloveEmbeddings(WordsEmbeddings):\n",
    "    WORD_TO_VEC_MODEL_TXT_PATH = 'glove.twitter.27B.50d.txt'\n",
    "    PKL_PATH = 'gloveembedding.pkl'\n",
    "    N_FEATURES = 50\n",
    "    WORD_MAX_SIZE = 60\n",
    "\n",
    "class FasttextEmbeddings(WordsEmbeddings):\n",
    "    WORD_TO_VEC_MODEL_TXT_PATH = 'cc.en.300.vec'\n",
    "    PKL_PATH = 'fasttext.pkl'\n",
    "    N_FEATURES = 300\n",
    "    WORD_MAX_SIZE = 60"
   ]
  },
  {
   "cell_type": "code",
   "execution_count": 15,
   "metadata": {},
   "outputs": [],
   "source": [
    "model_embeddings = GloveEmbeddings()"
   ]
  },
  {
   "cell_type": "code",
   "execution_count": 16,
   "metadata": {},
   "outputs": [
    {
     "name": "stdout",
     "output_type": "stream",
     "text": [
      "preparing embedding matrix...\n",
      "number of null word embeddings: 44\n"
     ]
    }
   ],
   "source": [
    "print('preparing embedding matrix...')\n",
    "embed_dim = model_embeddings.N_FEATURES\n",
    "words_not_found = []\n",
    "\n",
    "# word_index provieen del tokenizer\n",
    "\n",
    "nb_words = min(MAX_VOCAB_SIZE, len(word2idx_inputs)) # vocab_size\n",
    "embedding_matrix = np.zeros((nb_words, embed_dim))\n",
    "for word, i in word2idx_inputs.items():\n",
    "    if i >= nb_words:\n",
    "        continue\n",
    "    embedding_vector = model_embeddings.get_words_embeddings(word)[0]\n",
    "    if (embedding_vector is not None) and len(embedding_vector) > 0:\n",
    "        \n",
    "        embedding_matrix[i] = embedding_vector\n",
    "    else:\n",
    "        # words not found in embedding index will be all-zeros.\n",
    "        words_not_found.append(word)\n",
    "\n",
    "print('number of null word embeddings:', np.sum(np.sum(embedding_matrix**2, axis=1) == 0))"
   ]
  },
  {
   "cell_type": "code",
   "execution_count": 17,
   "metadata": {},
   "outputs": [
    {
     "data": {
      "text/plain": [
       "(2157, 50)"
      ]
     },
     "execution_count": 17,
     "metadata": {},
     "output_type": "execute_result"
    }
   ],
   "source": [
    "embedding_matrix.shape"
   ]
  },
  {
   "cell_type": "markdown",
   "metadata": {
    "id": "3vKbhjtIwPgM"
   },
   "source": [
    "### 4 - Entrenar el modelo\n",
    "Entrenar un modelo basado en el esquema encoder-decoder utilizando los datos generados en los puntos anteriores. Utilce como referencias los ejemplos vistos en clase."
   ]
  },
  {
   "cell_type": "code",
   "execution_count": 18,
   "metadata": {},
   "outputs": [
    {
     "data": {
      "text/plain": [
       "10"
      ]
     },
     "execution_count": 18,
     "metadata": {},
     "output_type": "execute_result"
    }
   ],
   "source": [
    "max_input_len"
   ]
  },
  {
   "cell_type": "code",
   "execution_count": 19,
   "metadata": {},
   "outputs": [
    {
     "name": "stderr",
     "output_type": "stream",
     "text": [
      "2023-06-03 13:55:44.784669: I tensorflow/core/platform/cpu_feature_guard.cc:193] This TensorFlow binary is optimized with oneAPI Deep Neural Network Library (oneDNN) to use the following CPU instructions in performance-critical operations:  AVX2 FMA\n",
      "To enable them in other operations, rebuild TensorFlow with the appropriate compiler flags.\n"
     ]
    },
    {
     "name": "stdout",
     "output_type": "stream",
     "text": [
      "Model: \"model\"\n",
      "__________________________________________________________________________________________________\n",
      " Layer (type)                   Output Shape         Param #     Connected to                     \n",
      "==================================================================================================\n",
      " input_1 (InputLayer)           [(None, 10)]         0           []                               \n",
      "                                                                                                  \n",
      " input_2 (InputLayer)           [(None, 10)]         0           []                               \n",
      "                                                                                                  \n",
      " embedding (Embedding)          (None, 10, 50)       107850      ['input_1[0][0]']                \n",
      "                                                                                                  \n",
      " embedding_1 (Embedding)        (None, 10, 128)      276224      ['input_2[0][0]']                \n",
      "                                                                                                  \n",
      " lstm (LSTM)                    [(None, 128),        91648       ['embedding[0][0]']              \n",
      "                                 (None, 128),                                                     \n",
      "                                 (None, 128)]                                                     \n",
      "                                                                                                  \n",
      " lstm_1 (LSTM)                  [(None, 10, 128),    131584      ['embedding_1[0][0]',            \n",
      "                                 (None, 128),                     'lstm[0][1]',                   \n",
      "                                 (None, 128)]                     'lstm[0][2]']                   \n",
      "                                                                                                  \n",
      " dense (Dense)                  (None, 10, 2158)     278382      ['lstm_1[0][0]']                 \n",
      "                                                                                                  \n",
      "==================================================================================================\n",
      "Total params: 885,688\n",
      "Trainable params: 777,838\n",
      "Non-trainable params: 107,850\n",
      "__________________________________________________________________________________________________\n"
     ]
    }
   ],
   "source": [
    "from keras.models import Model\n",
    "from keras.layers import Input, LSTM, Dense\n",
    "\n",
    "n_units = 128\n",
    "\n",
    "# define training encoder\n",
    "encoder_inputs = Input(shape=(max_input_len))\n",
    "\n",
    "#encoder_embedding_layer = Embedding(num_words, EMBEDDING_SIZE, weights=[embedding_matrix], input_length=max_input_len)\n",
    "\n",
    "encoder_embedding_layer = Embedding(\n",
    "          input_dim=nb_words,  # definido en el Tokenizador\n",
    "          output_dim=embed_dim,  # dimensión de los embeddings utilizados\n",
    "          input_length=max_input_len, # tamaño máximo de la secuencia de entrada\n",
    "          weights=[embedding_matrix],  # matrix de embeddings\n",
    "          trainable=False)      # marcar como layer no entrenable\n",
    "\n",
    "encoder_inputs_x = encoder_embedding_layer(encoder_inputs)\n",
    "\n",
    "encoder = LSTM(n_units, return_state=True)\n",
    "encoder_outputs, state_h, state_c = encoder(encoder_inputs_x)\n",
    "encoder_states = [state_h, state_c]\n",
    "\n",
    "# define training decoder\n",
    "decoder_inputs = Input(shape=(max_out_len))\n",
    "decoder_embedding_layer = Embedding(input_dim=num_words_output, output_dim=n_units, input_length=max_out_len)\n",
    "decoder_inputs_x = decoder_embedding_layer(decoder_inputs)\n",
    "\n",
    "decoder_lstm = LSTM(n_units, return_sequences=True, return_state=True)\n",
    "decoder_outputs, _, _ = decoder_lstm(decoder_inputs_x, initial_state=encoder_states)\n",
    "\n",
    "# Dense\n",
    "decoder_dense = Dense(num_words_output, activation='softmax')\n",
    "decoder_outputs = decoder_dense(decoder_outputs)\n",
    "model = Model([encoder_inputs, decoder_inputs], decoder_outputs)\n",
    "\n",
    "model.compile(loss='categorical_crossentropy', optimizer=\"Adam\", metrics=['accuracy'])\n",
    "model.summary()"
   ]
  },
  {
   "cell_type": "code",
   "execution_count": 20,
   "metadata": {},
   "outputs": [
    {
     "data": {
      "image/png": "[encoded data removed]",
      "text/plain": [
       "<IPython.core.display.Image object>"
      ]
     },
     "execution_count": 20,
     "metadata": {},
     "output_type": "execute_result"
    }
   ],
   "source": [
    "from keras.utils.vis_utils import plot_model\n",
    "plot_model(model, to_file='model_plot.png', show_shapes=True, show_layer_names=True)"
   ]
  },
  {
   "cell_type": "code",
   "execution_count": 21,
   "metadata": {},
   "outputs": [
    {
     "data": {
      "image/png": "[encoded data removed]",
      "text/plain": [
       "<IPython.core.display.Image object>"
      ]
     },
     "execution_count": 21,
     "metadata": {},
     "output_type": "execute_result"
    }
   ],
   "source": [
    "# define inference encoder\n",
    "encoder_model = Model(encoder_inputs, encoder_states)\n",
    "\n",
    "from keras.utils.vis_utils import plot_model\n",
    "plot_model(encoder_model, to_file='encoder_plot.png', show_shapes=True, show_layer_names=True)"
   ]
  },
  {
   "cell_type": "code",
   "execution_count": 22,
   "metadata": {},
   "outputs": [
    {
     "data": {
      "image/png": "[encoded data removed]",
      "text/plain": [
       "<IPython.core.display.Image object>"
      ]
     },
     "execution_count": 22,
     "metadata": {},
     "output_type": "execute_result"
    }
   ],
   "source": [
    "from keras.utils.vis_utils import plot_model\n",
    "\n",
    "# define inference decoder\n",
    "decoder_state_input_h = Input(shape=(n_units,))\n",
    "decoder_state_input_c = Input(shape=(n_units,))\n",
    "decoder_states_inputs = [decoder_state_input_h, decoder_state_input_c]\n",
    "\n",
    "# En cada predicción habrá una sola palabra de entrada al decoder,\n",
    "# que es la realimentación de la palabra anterior\n",
    "# por lo que hay que modificar el input shape de la layer de Embedding\n",
    "decoder_inputs_single = Input(shape=(1,))\n",
    "decoder_inputs_single_x = decoder_embedding_layer(decoder_inputs_single)\n",
    "\n",
    "decoder_outputs, state_h, state_c = decoder_lstm(decoder_inputs_single_x, initial_state=decoder_states_inputs)\n",
    "decoder_states = [state_h, state_c]\n",
    "decoder_outputs = decoder_dense(decoder_outputs)\n",
    "decoder_model = Model([decoder_inputs_single] + decoder_states_inputs, [decoder_outputs] + decoder_states)\n",
    "\n",
    "plot_model(decoder_model, to_file='decoder_plot.png', show_shapes=True, show_layer_names=True)"
   ]
  },
  {
   "cell_type": "code",
   "execution_count": 23,
   "metadata": {},
   "outputs": [
    {
     "name": "stdout",
     "output_type": "stream",
     "text": [
      "Epoch 1/50\n",
      "151/151 [==============================] - 6s 27ms/step - loss: 3.0840 - accuracy: 0.5259 - val_loss: 2.2637 - val_accuracy: 0.6320\n",
      "Epoch 2/50\n",
      "151/151 [==============================] - 4s 25ms/step - loss: 2.0565 - accuracy: 0.6258 - val_loss: 2.0942 - val_accuracy: 0.6469\n",
      "Epoch 3/50\n",
      "151/151 [==============================] - 4s 25ms/step - loss: 1.8336 - accuracy: 0.6751 - val_loss: 1.9428 - val_accuracy: 0.6867\n",
      "Epoch 4/50\n",
      "151/151 [==============================] - 4s 25ms/step - loss: 1.6576 - accuracy: 0.7068 - val_loss: 1.8520 - val_accuracy: 0.6968\n",
      "Epoch 5/50\n",
      "151/151 [==============================] - 4s 25ms/step - loss: 1.5428 - accuracy: 0.7222 - val_loss: 1.7952 - val_accuracy: 0.7056\n",
      "Epoch 6/50\n",
      "151/151 [==============================] - 4s 25ms/step - loss: 1.4647 - accuracy: 0.7323 - val_loss: 1.7530 - val_accuracy: 0.7128\n",
      "Epoch 7/50\n",
      "151/151 [==============================] - 4s 25ms/step - loss: 1.4080 - accuracy: 0.7385 - val_loss: 1.7342 - val_accuracy: 0.7120\n",
      "Epoch 8/50\n",
      "151/151 [==============================] - 4s 25ms/step - loss: 1.3621 - accuracy: 0.7420 - val_loss: 1.7121 - val_accuracy: 0.7144\n",
      "Epoch 9/50\n",
      "151/151 [==============================] - 4s 26ms/step - loss: 1.3231 - accuracy: 0.7460 - val_loss: 1.6947 - val_accuracy: 0.7192\n",
      "Epoch 10/50\n",
      "151/151 [==============================] - 4s 26ms/step - loss: 1.2885 - accuracy: 0.7490 - val_loss: 1.6844 - val_accuracy: 0.7210\n",
      "Epoch 11/50\n",
      "151/151 [==============================] - 4s 25ms/step - loss: 1.2562 - accuracy: 0.7519 - val_loss: 1.6761 - val_accuracy: 0.7241\n",
      "Epoch 12/50\n",
      "151/151 [==============================] - 4s 27ms/step - loss: 1.2270 - accuracy: 0.7565 - val_loss: 1.6662 - val_accuracy: 0.7251\n",
      "Epoch 13/50\n",
      "151/151 [==============================] - 4s 28ms/step - loss: 1.2002 - accuracy: 0.7608 - val_loss: 1.6607 - val_accuracy: 0.7279\n",
      "Epoch 14/50\n",
      "151/151 [==============================] - 4s 26ms/step - loss: 1.1751 - accuracy: 0.7634 - val_loss: 1.6560 - val_accuracy: 0.7268\n",
      "Epoch 15/50\n",
      "151/151 [==============================] - 4s 26ms/step - loss: 1.1525 - accuracy: 0.7662 - val_loss: 1.6538 - val_accuracy: 0.7288\n",
      "Epoch 16/50\n",
      "151/151 [==============================] - 4s 26ms/step - loss: 1.1319 - accuracy: 0.7680 - val_loss: 1.6558 - val_accuracy: 0.7311\n",
      "Epoch 17/50\n",
      "151/151 [==============================] - 4s 26ms/step - loss: 1.1116 - accuracy: 0.7693 - val_loss: 1.6557 - val_accuracy: 0.7308\n",
      "Epoch 18/50\n",
      "151/151 [==============================] - 4s 26ms/step - loss: 1.0931 - accuracy: 0.7713 - val_loss: 1.6579 - val_accuracy: 0.7298\n",
      "Epoch 19/50\n",
      "151/151 [==============================] - 4s 27ms/step - loss: 1.0757 - accuracy: 0.7732 - val_loss: 1.6508 - val_accuracy: 0.7319\n",
      "Epoch 20/50\n",
      "151/151 [==============================] - 4s 26ms/step - loss: 1.0582 - accuracy: 0.7746 - val_loss: 1.6628 - val_accuracy: 0.7321\n",
      "Epoch 21/50\n",
      "151/151 [==============================] - 4s 26ms/step - loss: 1.0421 - accuracy: 0.7771 - val_loss: 1.6566 - val_accuracy: 0.7322\n",
      "Epoch 22/50\n",
      "151/151 [==============================] - 4s 27ms/step - loss: 1.0266 - accuracy: 0.7799 - val_loss: 1.6646 - val_accuracy: 0.7332\n",
      "Epoch 23/50\n",
      "151/151 [==============================] - 4s 26ms/step - loss: 1.0120 - accuracy: 0.7811 - val_loss: 1.6668 - val_accuracy: 0.7350\n",
      "Epoch 24/50\n",
      "151/151 [==============================] - 4s 26ms/step - loss: 0.9983 - accuracy: 0.7823 - val_loss: 1.6693 - val_accuracy: 0.7337\n",
      "Epoch 25/50\n",
      "151/151 [==============================] - 4s 26ms/step - loss: 0.9841 - accuracy: 0.7831 - val_loss: 1.6688 - val_accuracy: 0.7333\n",
      "Epoch 26/50\n",
      "151/151 [==============================] - 4s 26ms/step - loss: 0.9701 - accuracy: 0.7862 - val_loss: 1.6748 - val_accuracy: 0.7351\n",
      "Epoch 27/50\n",
      "151/151 [==============================] - 4s 26ms/step - loss: 0.9569 - accuracy: 0.7877 - val_loss: 1.6825 - val_accuracy: 0.7345\n",
      "Epoch 28/50\n",
      "151/151 [==============================] - 4s 26ms/step - loss: 0.9443 - accuracy: 0.7904 - val_loss: 1.6868 - val_accuracy: 0.7336\n",
      "Epoch 29/50\n",
      "151/151 [==============================] - 4s 26ms/step - loss: 0.9319 - accuracy: 0.7919 - val_loss: 1.6885 - val_accuracy: 0.7341\n",
      "Epoch 30/50\n",
      "151/151 [==============================] - 4s 26ms/step - loss: 0.9200 - accuracy: 0.7946 - val_loss: 1.6893 - val_accuracy: 0.7373\n",
      "Epoch 31/50\n",
      "151/151 [==============================] - 4s 28ms/step - loss: 0.9078 - accuracy: 0.7970 - val_loss: 1.6926 - val_accuracy: 0.7370\n",
      "Epoch 32/50\n",
      "151/151 [==============================] - 5s 30ms/step - loss: 0.8966 - accuracy: 0.7990 - val_loss: 1.7001 - val_accuracy: 0.7332\n",
      "Epoch 33/50\n",
      "151/151 [==============================] - 5s 30ms/step - loss: 0.8862 - accuracy: 0.8005 - val_loss: 1.7016 - val_accuracy: 0.7350\n",
      "Epoch 34/50\n",
      "151/151 [==============================] - 5s 30ms/step - loss: 0.8749 - accuracy: 0.8026 - val_loss: 1.7088 - val_accuracy: 0.7329\n",
      "Epoch 35/50\n",
      "151/151 [==============================] - 4s 29ms/step - loss: 0.8649 - accuracy: 0.8043 - val_loss: 1.7190 - val_accuracy: 0.7332\n",
      "Epoch 36/50\n",
      "151/151 [==============================] - 4s 29ms/step - loss: 0.8554 - accuracy: 0.8060 - val_loss: 1.7163 - val_accuracy: 0.7357\n",
      "Epoch 37/50\n",
      "151/151 [==============================] - 4s 28ms/step - loss: 0.8454 - accuracy: 0.8080 - val_loss: 1.7196 - val_accuracy: 0.7368\n",
      "Epoch 38/50\n",
      "151/151 [==============================] - 4s 28ms/step - loss: 0.8356 - accuracy: 0.8084 - val_loss: 1.7277 - val_accuracy: 0.7352\n",
      "Epoch 39/50\n",
      "151/151 [==============================] - 4s 29ms/step - loss: 0.8266 - accuracy: 0.8100 - val_loss: 1.7379 - val_accuracy: 0.7355\n",
      "Epoch 40/50\n",
      "151/151 [==============================] - 4s 29ms/step - loss: 0.8180 - accuracy: 0.8114 - val_loss: 1.7368 - val_accuracy: 0.7368\n",
      "Epoch 41/50\n",
      "151/151 [==============================] - 4s 29ms/step - loss: 0.8091 - accuracy: 0.8135 - val_loss: 1.7469 - val_accuracy: 0.7370\n",
      "Epoch 42/50\n",
      "151/151 [==============================] - 4s 29ms/step - loss: 0.8013 - accuracy: 0.8145 - val_loss: 1.7521 - val_accuracy: 0.7374\n",
      "Epoch 43/50\n",
      "151/151 [==============================] - 4s 29ms/step - loss: 0.7926 - accuracy: 0.8154 - val_loss: 1.7607 - val_accuracy: 0.7356\n",
      "Epoch 44/50\n",
      "151/151 [==============================] - 4s 29ms/step - loss: 0.7849 - accuracy: 0.8168 - val_loss: 1.7610 - val_accuracy: 0.7363\n",
      "Epoch 45/50\n",
      "151/151 [==============================] - 4s 28ms/step - loss: 0.7776 - accuracy: 0.8177 - val_loss: 1.7712 - val_accuracy: 0.7361\n",
      "Epoch 46/50\n",
      "151/151 [==============================] - 4s 27ms/step - loss: 0.7701 - accuracy: 0.8183 - val_loss: 1.7770 - val_accuracy: 0.7368\n",
      "Epoch 47/50\n",
      "151/151 [==============================] - 4s 29ms/step - loss: 0.7628 - accuracy: 0.8196 - val_loss: 1.7868 - val_accuracy: 0.7371\n",
      "Epoch 48/50\n",
      "151/151 [==============================] - 4s 29ms/step - loss: 0.7553 - accuracy: 0.8221 - val_loss: 1.7941 - val_accuracy: 0.7364\n",
      "Epoch 49/50\n",
      "151/151 [==============================] - 4s 28ms/step - loss: 0.7489 - accuracy: 0.8222 - val_loss: 1.7982 - val_accuracy: 0.7370\n",
      "Epoch 50/50\n",
      "151/151 [==============================] - 4s 29ms/step - loss: 0.7411 - accuracy: 0.8238 - val_loss: 1.8046 - val_accuracy: 0.7374\n"
     ]
    }
   ],
   "source": [
    "hist = model.fit(\n",
    "    [encoder_input_sequences, decoder_input_sequences],\n",
    "    decoder_targets,\n",
    "    epochs=50, \n",
    "    validation_split=0.2)"
   ]
  },
  {
   "cell_type": "code",
   "execution_count": 24,
   "metadata": {},
   "outputs": [
    {
     "data": {
      "image/png": "[encoded data removed]",
      "text/plain": [
       "<Figure size 640x480 with 1 Axes>"
      ]
     },
     "metadata": {},
     "output_type": "display_data"
    }
   ],
   "source": [
    "import matplotlib.pyplot as plt\n",
    "import seaborn as sns\n",
    "\n",
    "# Entrenamiento\n",
    "epoch_count = range(1, len(hist.history['accuracy']) + 1)\n",
    "sns.lineplot(x=epoch_count,  y=hist.history['accuracy'], label='train')\n",
    "sns.lineplot(x=epoch_count,  y=hist.history['val_accuracy'], label='valid')\n",
    "plt.show()"
   ]
  },
  {
   "cell_type": "markdown",
   "metadata": {
    "id": "Zbwn0ekDy_s2"
   },
   "source": [
    "### 5 - Inferencia\n",
    "Experimentar el funcionamiento de su modelo. Recuerde que debe realizar la inferencia de los modelos por separado de encoder y decoder."
   ]
  },
  {
   "cell_type": "code",
   "execution_count": 25,
   "metadata": {},
   "outputs": [],
   "source": [
    "# Armar los conversores de índice a palabra:\n",
    "idx2word_input = {v:k for k, v in word2idx_inputs.items()}\n",
    "idx2word_target = {v:k for k, v in word2idx_outputs.items()}"
   ]
  },
  {
   "cell_type": "code",
   "execution_count": 26,
   "metadata": {},
   "outputs": [],
   "source": [
    "def response(input_seq):\n",
    "    # Se transforma la sequencia de entrada a los estados \"h\" y \"c\" de la LSTM\n",
    "    # para enviar la primera vez al decoder\n",
    "    states_value = encoder_model.predict(input_seq)\n",
    "\n",
    "    # Se inicializa la secuencia de entrada al decoder como \"<sos>\"\n",
    "    target_seq = np.zeros((1, 1))\n",
    "    target_seq[0, 0] = word2idx_outputs['<sos>']\n",
    "\n",
    "    # Se obtiene el índice que finaliza la inferencia\n",
    "    eos = word2idx_outputs['<eos>']\n",
    "    \n",
    "    output_sentence = []\n",
    "    for _ in range(max_out_len):\n",
    "        # Predicción del próximo elemento\n",
    "        output_tokens, h, c = decoder_model.predict([target_seq] + states_value)\n",
    "        idx = np.argmax(output_tokens[0, 0, :])\n",
    "\n",
    "        # Si es \"end of sentece <eos>\" se acaba\n",
    "        if eos == idx:\n",
    "            break\n",
    "\n",
    "        # Transformar idx a palabra\n",
    "        word = ''        \n",
    "        if idx > 0:\n",
    "            word = idx2word_target[idx]\n",
    "            output_sentence.append(word)\n",
    "\n",
    "        # Actualizar los estados dada la última predicción\n",
    "        states_value = [h, c]\n",
    "\n",
    "        # Actualizar secuencia de entrada con la salida (re-alimentación)\n",
    "        target_seq[0, 0] = idx\n",
    "\n",
    "    return ' '.join(output_sentence)"
   ]
  },
  {
   "cell_type": "code",
   "execution_count": 54,
   "metadata": {},
   "outputs": [
    {
     "name": "stdout",
     "output_type": "stream",
     "text": [
      "Input: ['hahn do you work ', 'yes i work at home', 'oh i am sorry to hear that ', 'oh i see ', 'who cares fuckk offf', 'oh man wow that is so cool ', 'dafuq ', 'i m not a very good swimmer ', 'what the fu k', 'it is jet black really ', 'red or blue', 'blue is mine what is yours ', 'red ', 'oh good', 'i like the color grey ', 'not this time but soon', 'what do you do for a living ', 'study', 'why you ask', 'how are you ', 'a actor or singer', 'that s awesome ', 'and what you do', 'oh i see ', 'your name', 'my name is tony ', 'stop saying about color', 'i like blue too ', 'are jocking me', 'ok i will talk to you later ', 'wait', 'what s your favorite band ', 'come india i want to beat you', 'what is your favorite food ', 'burger', 'where did it go to ', 'what', 'no', 'what do you do for a living ', 'yes i sell them for a living ', 'great', 'how is your day going ', 'ok', 'you ', 'oh cool do you have any pets ', 'nope', 'i ve a cat ', 'hi', 'hello how are you today ', 'i am fine', 'i ve one too ', 'how s it ', 'it is amazing i love snow ', 'a physical relationship', 'that would be wonderful ', 'do you like metal music ', 'i like metal music ', 'it s a groove metal band', 'i have a seven year old girl', 'are you a bot ', 'i love that one too ', 'i mean are you a bot ', 'that is a great one ', 'i am asking you fool', 'i think it is a classic ', 'laro van na', 'oh i don t know about that ', 'you are robot ', 'i take photos of many things', 'ok', 'what did they say ', 'hey', 'use', 'help command ', 'lol', 'so what ', 'hello how are you today ', 'fine n u ', 'i m fine thank you and you ', 'me too ', 'oh ', 'ohh lovely ', 'i like to go to the movies ', 'what s your age ', 'i am 33 how about you ', 'i am 18 ', 'hi', 'hi', 'hello how are you ', 'hi', 'hi', 'hello how are you ', 'i am fine', 'what do you do for a living ', 'i like to play guitar ', 'which subject ', 'what do you do for a living ', 'i am a musician bro', 'oh i am a musician ', 'good']\n",
      "Response: i am not sure what you mean\n"
     ]
    }
   ],
   "source": [
    "print('Input:', input_sentences[5500:5600])\n",
    "print('Response:', translation)"
   ]
  },
  {
   "cell_type": "code",
   "execution_count": 46,
   "metadata": {},
   "outputs": [
    {
     "name": "stdout",
     "output_type": "stream",
     "text": [
      "Input: 'hello how are you?\n",
      "Representacion en vector de tokens de ids [10, 8, 3]\n",
      "Padding del vector: [[ 0  0  0  0  0  0  0 10  8  3]]\n",
      "Input: 'hello how are you?\n",
      "1/1 [==============================] - 0s 17ms/step\n",
      "1/1 [==============================] - 0s 16ms/step\n",
      "1/1 [==============================] - 0s 14ms/step\n",
      "1/1 [==============================] - 0s 14ms/step\n",
      "1/1 [==============================] - 0s 14ms/step\n",
      "Response: i am fine\n"
     ]
    }
   ],
   "source": [
    "input_test = \"'hello how are you?\"\n",
    "print('Input:', input_test)\n",
    "integer_seq_test = tokenizer.texts_to_sequences([input_test])[0]\n",
    "print(\"Representacion en vector de tokens de ids\", integer_seq_test)\n",
    "encoder_sequence_test = pad_sequences([integer_seq_test], maxlen=max_input_len)\n",
    "print(\"Padding del vector:\", encoder_sequence_test)\n",
    "\n",
    "print('Input:', input_test)\n",
    "translation = response(encoder_sequence_test)\n",
    "print('Response:', translation)"
   ]
  },
  {
   "cell_type": "code",
   "execution_count": 47,
   "metadata": {},
   "outputs": [
    {
     "name": "stdout",
     "output_type": "stream",
     "text": [
      "Input: 'what were you doing?\n",
      "Representacion en vector de tokens de ids [272, 3, 48]\n",
      "Padding del vector: [[  0   0   0   0   0   0   0 272   3  48]]\n",
      "Input: 'what were you doing?\n",
      "1/1 [==============================] - 0s 14ms/step\n",
      "1/1 [==============================] - 0s 18ms/step\n",
      "1/1 [==============================] - 0s 17ms/step\n",
      "1/1 [==============================] - 0s 12ms/step\n",
      "1/1 [==============================] - 0s 14ms/step\n",
      "1/1 [==============================] - 0s 15ms/step\n",
      "1/1 [==============================] - 0s 14ms/step\n",
      "1/1 [==============================] - 0s 14ms/step\n",
      "Response: i like to play video games\n"
     ]
    }
   ],
   "source": [
    "input_test = \"'what were you doing?\"\n",
    "print('Input:', input_test)\n",
    "integer_seq_test = tokenizer.texts_to_sequences([input_test])[0]\n",
    "print(\"Representacion en vector de tokens de ids\", integer_seq_test)\n",
    "encoder_sequence_test = pad_sequences([integer_seq_test], maxlen=max_input_len)\n",
    "print(\"Padding del vector:\", encoder_sequence_test)\n",
    "\n",
    "print('Input:', input_test)\n",
    "translation = response(encoder_sequence_test)\n",
    "print('Response:', translation)"
   ]
  },
  {
   "cell_type": "code",
   "execution_count": 51,
   "metadata": {},
   "outputs": [
    {
     "name": "stdout",
     "output_type": "stream",
     "text": [
      "Input: what do you do for a living?\n",
      "Representacion en vector de tokens de ids [5, 4, 3, 4, 9, 6, 12]\n",
      "Padding del vector: [[ 0  0  0  5  4  3  4  9  6 12]]\n",
      "Input: what do you do for a living?\n",
      "1/1 [==============================] - 0s 15ms/step\n",
      "1/1 [==============================] - 0s 16ms/step\n",
      "1/1 [==============================] - 0s 14ms/step\n",
      "1/1 [==============================] - 0s 14ms/step\n",
      "1/1 [==============================] - 0s 14ms/step\n",
      "1/1 [==============================] - 0s 13ms/step\n",
      "Response: i am a student\n"
     ]
    }
   ],
   "source": [
    "input_test = \"what do you do for a living?\"\n",
    "print('Input:', input_test)\n",
    "integer_seq_test = tokenizer.texts_to_sequences([input_test])[0]\n",
    "print(\"Representacion en vector de tokens de ids\", integer_seq_test)\n",
    "encoder_sequence_test = pad_sequences([integer_seq_test], maxlen=max_input_len)\n",
    "print(\"Padding del vector:\", encoder_sequence_test)\n",
    "\n",
    "print('Input:', input_test)\n",
    "translation = response(encoder_sequence_test)\n",
    "print('Response:', translation)"
   ]
  },
  {
   "cell_type": "code",
   "execution_count": 52,
   "metadata": {},
   "outputs": [
    {
     "name": "stdout",
     "output_type": "stream",
     "text": [
      "Input: Do you have any hobbies?\n",
      "Representacion en vector de tokens de ids [4, 3, 16, 30, 45]\n",
      "Padding del vector: [[ 0  0  0  0  0  4  3 16 30 45]]\n",
      "Input: Do you have any hobbies?\n",
      "1/1 [==============================] - 0s 25ms/step\n",
      "1/1 [==============================] - 0s 17ms/step\n",
      "1/1 [==============================] - 0s 17ms/step\n",
      "1/1 [==============================] - 0s 15ms/step\n",
      "1/1 [==============================] - 0s 14ms/step\n",
      "1/1 [==============================] - 0s 13ms/step\n",
      "1/1 [==============================] - 0s 15ms/step\n",
      "1/1 [==============================] - 0s 14ms/step\n",
      "1/1 [==============================] - 0s 14ms/step\n",
      "Response: i am not sure what you mean\n"
     ]
    }
   ],
   "source": [
    "input_test = \"Do you have any hobbies?\"\n",
    "print('Input:', input_test)\n",
    "integer_seq_test = tokenizer.texts_to_sequences([input_test])[0]\n",
    "print(\"Representacion en vector de tokens de ids\", integer_seq_test)\n",
    "encoder_sequence_test = pad_sequences([integer_seq_test], maxlen=max_input_len)\n",
    "print(\"Padding del vector:\", encoder_sequence_test)\n",
    "\n",
    "print('Input:', input_test)\n",
    "translation = response(encoder_sequence_test)\n",
    "print('Response:', translation)"
   ]
  },
  {
   "cell_type": "code",
   "execution_count": 55,
   "metadata": {},
   "outputs": [
    {
     "name": "stdout",
     "output_type": "stream",
     "text": [
      "Input: Do you have any pets?\n",
      "Representacion en vector de tokens de ids [4, 3, 16, 30, 64]\n",
      "Padding del vector: [[ 0  0  0  0  0  4  3 16 30 64]]\n",
      "Input: Do you have any pets?\n",
      "1/1 [==============================] - 0s 20ms/step\n",
      "1/1 [==============================] - 0s 20ms/step\n",
      "1/1 [==============================] - 0s 13ms/step\n",
      "Response: yes\n"
     ]
    }
   ],
   "source": [
    "input_test = \"Do you have any pets?\"\n",
    "print('Input:', input_test)\n",
    "integer_seq_test = tokenizer.texts_to_sequences([input_test])[0]\n",
    "print(\"Representacion en vector de tokens de ids\", integer_seq_test)\n",
    "encoder_sequence_test = pad_sequences([integer_seq_test], maxlen=max_input_len)\n",
    "print(\"Padding del vector:\", encoder_sequence_test)\n",
    "\n",
    "print('Input:', input_test)\n",
    "translation = response(encoder_sequence_test)\n",
    "print('Response:', translation)"
   ]
  },
  {
   "cell_type": "code",
   "execution_count": null,
   "metadata": {},
   "outputs": [],
   "source": []
  }
 ],
 "metadata": {
  "accelerator": "GPU",
  "colab": {
   "collapsed_sections": [],
   "provenance": []
  },
  "kernelspec": {
   "display_name": "Python 3 (ipykernel)",
   "language": "python",
   "name": "python3"
  },
  "language_info": {
   "codemirror_mode": {
    "name": "ipython",
    "version": 3
   },
   "file_extension": ".py",
   "mimetype": "text/x-python",
   "name": "python",
   "nbconvert_exporter": "python",
   "pygments_lexer": "ipython3",
   "version": "3.9.13"
  },
  "vscode": {
   "interpreter": {
    "hash": "916dbcbb3f70747c44a77c7bcd40155683ae19c65e1c03b4aa3499c5328201f1"
   }
  }
 },
 "nbformat": 4,
 "nbformat_minor": 4
}
