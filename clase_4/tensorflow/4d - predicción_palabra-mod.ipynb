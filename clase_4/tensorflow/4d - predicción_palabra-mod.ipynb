{
 "cells": [
  {
   "cell_type": "markdown",
   "metadata": {
    "id": "g3yeJGnCYxuF"
   },
   "source": [
    "<img src=\"https://github.com/hernancontigiani/ceia_memorias_especializacion/raw/master/Figures/logoFIUBA.jpg\" width=\"500\" align=\"center\">\n",
    "\n",
    "\n",
    "# Procesamiento de lenguaje natural\n",
    "## Predicción de próxima palabra"
   ]
  },
  {
   "cell_type": "markdown",
   "metadata": {
    "id": "Iv5PEwGzZA9-"
   },
   "source": [
    "### Objetivo\n",
    "El objetivo es utilizar documentos / corpus para crear embeddings de palabras basado en ese contexto utilizando la layer Embedding de Keras. Se utilizará esos embeddings junto con layers LSTM para predeccir la próxima posible palabra."
   ]
  },
  {
   "cell_type": "code",
   "execution_count": 58,
   "metadata": {
    "id": "Y-QdFbHZYj7C"
   },
   "outputs": [],
   "source": [
    "import random\n",
    "import io\n",
    "import pickle\n",
    "\n",
    "import numpy as np\n",
    "import pandas as pd\n",
    "\n",
    "from tensorflow import keras\n",
    "from tensorflow.keras import layers\n",
    "from keras.utils.np_utils import to_categorical\n",
    "from keras.models import Sequential\n",
    "from keras.layers import Dense, LSTM, Embedding, Dropout, Bidirectional, GRU"
   ]
  },
  {
   "cell_type": "markdown",
   "metadata": {
    "id": "xTvXlEKQZdqx"
   },
   "source": [
    "### Datos\n",
    "Utilizaremos como dataset canciones de bandas de habla inglés."
   ]
  },
  {
   "cell_type": "code",
   "execution_count": null,
   "metadata": {
    "id": "IkdPfrQJZdB5"
   },
   "outputs": [],
   "source": [
    "# Descargar la carpeta de dataset\n",
    "# import os\n",
    "# import platform\n",
    "# if os.access('./songs_dataset', os.F_OK) is False:\n",
    "#     if os.access('songs_dataset.zip', os.F_OK) is False:\n",
    "#         if platform.system() == 'Windows':\n",
    "#             !curl https://raw.githubusercontent.com/FIUBA-Posgrado-Inteligencia-Artificial/procesamiento_lenguaje_natural/main/datasets/songs_dataset.zip -o songs_dataset.zip\n",
    "#         else:\n",
    "#             !wget songs_dataset.zip https://github.com/FIUBA-Posgrado-Inteligencia-Artificial/procesamiento_lenguaje_natural/raw/main/datasets/songs_dataset.zip\n",
    "#     !unzip -q songs_dataset.zip   \n",
    "# else:\n",
    "#     print(\"El dataset ya se encuentra descargado\")"
   ]
  },
  {
   "cell_type": "code",
   "execution_count": null,
   "metadata": {
    "id": "6j-3nQ4lZjfb"
   },
   "outputs": [],
   "source": [
    "# # Posibles bandas\n",
    "# os.listdir(\"./songs_dataset/\")"
   ]
  },
  {
   "cell_type": "code",
   "execution_count": 3,
   "metadata": {
    "id": "Gb39v3PaZmRH"
   },
   "outputs": [
    {
     "name": "stderr",
     "output_type": "stream",
     "text": [
      "/var/folders/4l/djq4w_j528l0kn8vz8grry4m0000gn/T/ipykernel_27054/1038148832.py:2: ParserWarning: Falling back to the 'python' engine because the 'c' engine does not support regex separators (separators > 1 char and different from '\\s+' are interpreted as regex); you can avoid this warning by specifying engine='python'.\n",
      "  df = pd.read_csv('lotr.txt', sep='/n', header=None)\n"
     ]
    },
    {
     "data": {
      "text/html": [
       "<div>\n",
       "<style scoped>\n",
       "    .dataframe tbody tr th:only-of-type {\n",
       "        vertical-align: middle;\n",
       "    }\n",
       "\n",
       "    .dataframe tbody tr th {\n",
       "        vertical-align: top;\n",
       "    }\n",
       "\n",
       "    .dataframe thead th {\n",
       "        text-align: right;\n",
       "    }\n",
       "</style>\n",
       "<table border=\"1\" class=\"dataframe\">\n",
       "  <thead>\n",
       "    <tr style=\"text-align: right;\">\n",
       "      <th></th>\n",
       "      <th>0</th>\n",
       "    </tr>\n",
       "  </thead>\n",
       "  <tbody>\n",
       "    <tr>\n",
       "      <th>0</th>\n",
       "      <td>El Señor de los Anillos es una novela, obra cu...</td>\n",
       "    </tr>\n",
       "    <tr>\n",
       "      <th>1</th>\n",
       "      <td>El Señor de los Anillos narra las aventuras de...</td>\n",
       "    </tr>\n",
       "    <tr>\n",
       "      <th>2</th>\n",
       "      <td>J.R.R. Tolkien</td>\n",
       "    </tr>\n",
       "    <tr>\n",
       "      <th>3</th>\n",
       "      <td>El Señor de los Anillos</td>\n",
       "    </tr>\n",
       "    <tr>\n",
       "      <th>4</th>\n",
       "      <td>Título de la edición original: The Lord of the...</td>\n",
       "    </tr>\n",
       "  </tbody>\n",
       "</table>\n",
       "</div>"
      ],
      "text/plain": [
       "                                                   0\n",
       "0  El Señor de los Anillos es una novela, obra cu...\n",
       "1  El Señor de los Anillos narra las aventuras de...\n",
       "2                                     J.R.R. Tolkien\n",
       "3                            El Señor de los Anillos\n",
       "4  Título de la edición original: The Lord of the..."
      ]
     },
     "execution_count": 3,
     "metadata": {},
     "output_type": "execute_result"
    }
   ],
   "source": [
    "# Armar el dataset utilizando salto de línea para separar las oraciones/docs\n",
    "df = pd.read_csv('lotr.txt', sep='/n', header=None)\n",
    "df.head()"
   ]
  },
  {
   "cell_type": "code",
   "execution_count": 4,
   "metadata": {
    "id": "riT898QlZnmF"
   },
   "outputs": [
    {
     "name": "stdout",
     "output_type": "stream",
     "text": [
      "Cantidad de documentos: 11174\n"
     ]
    }
   ],
   "source": [
    "print(\"Cantidad de documentos:\", df.shape[0])"
   ]
  },
  {
   "cell_type": "markdown",
   "metadata": {
    "id": "RDoouHp7Zp6D"
   },
   "source": [
    "### 1 - Ejemplo de Preprocesamiento\n",
    "- Hay que transformar las oraciones en tokens.\n",
    "- Dichas oraciones hay que ajustarlas al tamaño fijo de nuestra sentencia de entrada al modelo.\n",
    "- Hay que separar las palabras objetivos (target) que el modelo debe predecir en cada sentencia armada."
   ]
  },
  {
   "cell_type": "code",
   "execution_count": 5,
   "metadata": {
    "id": "m5FeTaGvbDbw"
   },
   "outputs": [],
   "source": [
    "from keras.preprocessing.text import Tokenizer # equivalente a ltokenizer de nltk\n",
    "from keras.preprocessing.text import text_to_word_sequence # equivalente a word_tokenize de nltk\n",
    "from keras.utils import pad_sequences # se utilizará para padding\n",
    "\n",
    "# largo de la secuencia, incluye seq input + word output\n",
    "train_len = 4"
   ]
  },
  {
   "cell_type": "code",
   "execution_count": 6,
   "metadata": {
    "id": "Zf3O7eK6ZpP8"
   },
   "outputs": [
    {
     "data": {
      "text/plain": [
       "'El Señor de los Anillos es una novela, obra cumbre del escritor John Ronald Reuel Tolkien, ambientada en un mundo fantástico llamado la Tierra Media hacia el final de su Tercera Edad. El título hace referencia a Sauron, el Señor Oscuro de Mordor, principal villano de la historia, creador del Anillo Único que utilizó para controlar el poder de los demás Anillos. El Señor de los Anillos constituye la continuación de un libro anterior de Tolkien, El Hobbit, que cuenta la historia de cómo el Anillo del Poder pasa a las manos de Bilbo Bolsón, el tío de Frodo Bolsón. En un nivel más profundo, constituye la continuación de otro libro llamado El Silmarillion, que habla de la creación de la Tierra Media y de todas las criaturas que en ella habitan, así como del primer Señor Oscuro, maestro de Sauron, y de las luchas por los Silmarils.'"
      ]
     },
     "execution_count": 6,
     "metadata": {},
     "output_type": "execute_result"
    }
   ],
   "source": [
    "# Ejemplo de como transformar una oración a tokens usando keras\n",
    "text = df.loc[0,0]\n",
    "text"
   ]
  },
  {
   "cell_type": "code",
   "execution_count": 7,
   "metadata": {
    "id": "AOv67Sj7aeFH"
   },
   "outputs": [
    {
     "data": {
      "text/plain": [
       "['el',\n",
       " 'señor',\n",
       " 'de',\n",
       " 'los',\n",
       " 'anillos',\n",
       " 'es',\n",
       " 'una',\n",
       " 'novela',\n",
       " 'obra',\n",
       " 'cumbre',\n",
       " 'del',\n",
       " 'escritor',\n",
       " 'john',\n",
       " 'ronald',\n",
       " 'reuel',\n",
       " 'tolkien',\n",
       " 'ambientada',\n",
       " 'en',\n",
       " 'un',\n",
       " 'mundo',\n",
       " 'fantástico',\n",
       " 'llamado',\n",
       " 'la',\n",
       " 'tierra',\n",
       " 'media',\n",
       " 'hacia',\n",
       " 'el',\n",
       " 'final',\n",
       " 'de',\n",
       " 'su',\n",
       " 'tercera',\n",
       " 'edad',\n",
       " 'el',\n",
       " 'título',\n",
       " 'hace',\n",
       " 'referencia',\n",
       " 'a',\n",
       " 'sauron',\n",
       " 'el',\n",
       " 'señor',\n",
       " 'oscuro',\n",
       " 'de',\n",
       " 'mordor',\n",
       " 'principal',\n",
       " 'villano',\n",
       " 'de',\n",
       " 'la',\n",
       " 'historia',\n",
       " 'creador',\n",
       " 'del',\n",
       " 'anillo',\n",
       " 'único',\n",
       " 'que',\n",
       " 'utilizó',\n",
       " 'para',\n",
       " 'controlar',\n",
       " 'el',\n",
       " 'poder',\n",
       " 'de',\n",
       " 'los',\n",
       " 'demás',\n",
       " 'anillos',\n",
       " 'el',\n",
       " 'señor',\n",
       " 'de',\n",
       " 'los',\n",
       " 'anillos',\n",
       " 'constituye',\n",
       " 'la',\n",
       " 'continuación',\n",
       " 'de',\n",
       " 'un',\n",
       " 'libro',\n",
       " 'anterior',\n",
       " 'de',\n",
       " 'tolkien',\n",
       " 'el',\n",
       " 'hobbit',\n",
       " 'que',\n",
       " 'cuenta',\n",
       " 'la',\n",
       " 'historia',\n",
       " 'de',\n",
       " 'cómo',\n",
       " 'el',\n",
       " 'anillo',\n",
       " 'del',\n",
       " 'poder',\n",
       " 'pasa',\n",
       " 'a',\n",
       " 'las',\n",
       " 'manos',\n",
       " 'de',\n",
       " 'bilbo',\n",
       " 'bolsón',\n",
       " 'el',\n",
       " 'tío',\n",
       " 'de',\n",
       " 'frodo',\n",
       " 'bolsón',\n",
       " 'en',\n",
       " 'un',\n",
       " 'nivel',\n",
       " 'más',\n",
       " 'profundo',\n",
       " 'constituye',\n",
       " 'la',\n",
       " 'continuación',\n",
       " 'de',\n",
       " 'otro',\n",
       " 'libro',\n",
       " 'llamado',\n",
       " 'el',\n",
       " 'silmarillion',\n",
       " 'que',\n",
       " 'habla',\n",
       " 'de',\n",
       " 'la',\n",
       " 'creación',\n",
       " 'de',\n",
       " 'la',\n",
       " 'tierra',\n",
       " 'media',\n",
       " 'y',\n",
       " 'de',\n",
       " 'todas',\n",
       " 'las',\n",
       " 'criaturas',\n",
       " 'que',\n",
       " 'en',\n",
       " 'ella',\n",
       " 'habitan',\n",
       " 'así',\n",
       " 'como',\n",
       " 'del',\n",
       " 'primer',\n",
       " 'señor',\n",
       " 'oscuro',\n",
       " 'maestro',\n",
       " 'de',\n",
       " 'sauron',\n",
       " 'y',\n",
       " 'de',\n",
       " 'las',\n",
       " 'luchas',\n",
       " 'por',\n",
       " 'los',\n",
       " 'silmarils']"
      ]
     },
     "execution_count": 7,
     "metadata": {},
     "output_type": "execute_result"
    }
   ],
   "source": [
    "tokens = text_to_word_sequence(text) # entran oraciones -> salen vectores de N posiciones (tokens)\n",
    "tokens"
   ]
  },
  {
   "cell_type": "markdown",
   "metadata": {
    "id": "ZrlyqkoiaymK"
   },
   "source": [
    "1.1 - Transformar las oraciones en secuencias (tokens) de palabras"
   ]
  },
  {
   "cell_type": "code",
   "execution_count": 8,
   "metadata": {
    "id": "XH_L14Wjaowe"
   },
   "outputs": [],
   "source": [
    "# Recorrer todas las filas y transformar las oraciones\n",
    "# en secuencias de palabras\n",
    "sentence_tokens = []\n",
    "for _, row in df[:None].iterrows():\n",
    "    sentence_tokens.append(text_to_word_sequence(row[0]))"
   ]
  },
  {
   "cell_type": "code",
   "execution_count": 9,
   "metadata": {
    "id": "KASzU4CdaxbZ"
   },
   "outputs": [
    {
     "data": {
      "text/plain": [
       "[['el',\n",
       "  'señor',\n",
       "  'de',\n",
       "  'los',\n",
       "  'anillos',\n",
       "  'es',\n",
       "  'una',\n",
       "  'novela',\n",
       "  'obra',\n",
       "  'cumbre',\n",
       "  'del',\n",
       "  'escritor',\n",
       "  'john',\n",
       "  'ronald',\n",
       "  'reuel',\n",
       "  'tolkien',\n",
       "  'ambientada',\n",
       "  'en',\n",
       "  'un',\n",
       "  'mundo',\n",
       "  'fantástico',\n",
       "  'llamado',\n",
       "  'la',\n",
       "  'tierra',\n",
       "  'media',\n",
       "  'hacia',\n",
       "  'el',\n",
       "  'final',\n",
       "  'de',\n",
       "  'su',\n",
       "  'tercera',\n",
       "  'edad',\n",
       "  'el',\n",
       "  'título',\n",
       "  'hace',\n",
       "  'referencia',\n",
       "  'a',\n",
       "  'sauron',\n",
       "  'el',\n",
       "  'señor',\n",
       "  'oscuro',\n",
       "  'de',\n",
       "  'mordor',\n",
       "  'principal',\n",
       "  'villano',\n",
       "  'de',\n",
       "  'la',\n",
       "  'historia',\n",
       "  'creador',\n",
       "  'del',\n",
       "  'anillo',\n",
       "  'único',\n",
       "  'que',\n",
       "  'utilizó',\n",
       "  'para',\n",
       "  'controlar',\n",
       "  'el',\n",
       "  'poder',\n",
       "  'de',\n",
       "  'los',\n",
       "  'demás',\n",
       "  'anillos',\n",
       "  'el',\n",
       "  'señor',\n",
       "  'de',\n",
       "  'los',\n",
       "  'anillos',\n",
       "  'constituye',\n",
       "  'la',\n",
       "  'continuación',\n",
       "  'de',\n",
       "  'un',\n",
       "  'libro',\n",
       "  'anterior',\n",
       "  'de',\n",
       "  'tolkien',\n",
       "  'el',\n",
       "  'hobbit',\n",
       "  'que',\n",
       "  'cuenta',\n",
       "  'la',\n",
       "  'historia',\n",
       "  'de',\n",
       "  'cómo',\n",
       "  'el',\n",
       "  'anillo',\n",
       "  'del',\n",
       "  'poder',\n",
       "  'pasa',\n",
       "  'a',\n",
       "  'las',\n",
       "  'manos',\n",
       "  'de',\n",
       "  'bilbo',\n",
       "  'bolsón',\n",
       "  'el',\n",
       "  'tío',\n",
       "  'de',\n",
       "  'frodo',\n",
       "  'bolsón',\n",
       "  'en',\n",
       "  'un',\n",
       "  'nivel',\n",
       "  'más',\n",
       "  'profundo',\n",
       "  'constituye',\n",
       "  'la',\n",
       "  'continuación',\n",
       "  'de',\n",
       "  'otro',\n",
       "  'libro',\n",
       "  'llamado',\n",
       "  'el',\n",
       "  'silmarillion',\n",
       "  'que',\n",
       "  'habla',\n",
       "  'de',\n",
       "  'la',\n",
       "  'creación',\n",
       "  'de',\n",
       "  'la',\n",
       "  'tierra',\n",
       "  'media',\n",
       "  'y',\n",
       "  'de',\n",
       "  'todas',\n",
       "  'las',\n",
       "  'criaturas',\n",
       "  'que',\n",
       "  'en',\n",
       "  'ella',\n",
       "  'habitan',\n",
       "  'así',\n",
       "  'como',\n",
       "  'del',\n",
       "  'primer',\n",
       "  'señor',\n",
       "  'oscuro',\n",
       "  'maestro',\n",
       "  'de',\n",
       "  'sauron',\n",
       "  'y',\n",
       "  'de',\n",
       "  'las',\n",
       "  'luchas',\n",
       "  'por',\n",
       "  'los',\n",
       "  'silmarils'],\n",
       " ['el',\n",
       "  'señor',\n",
       "  'de',\n",
       "  'los',\n",
       "  'anillos',\n",
       "  'narra',\n",
       "  'las',\n",
       "  'aventuras',\n",
       "  'de',\n",
       "  'un',\n",
       "  'grupo',\n",
       "  'de',\n",
       "  'seres',\n",
       "  'elfos',\n",
       "  'hobbits',\n",
       "  'enanos',\n",
       "  'humanos',\n",
       "  'que',\n",
       "  'forman',\n",
       "  'la',\n",
       "  'comunidad',\n",
       "  'del',\n",
       "  'anillo',\n",
       "  'en',\n",
       "  'su',\n",
       "  'intento',\n",
       "  'por',\n",
       "  'destruir',\n",
       "  'el',\n",
       "  'anillo',\n",
       "  'único',\n",
       "  'forjado',\n",
       "  'por',\n",
       "  'sauron',\n",
       "  'es',\n",
       "  'la',\n",
       "  'historia',\n",
       "  'del',\n",
       "  'héroe',\n",
       "  'del',\n",
       "  'pueblo',\n",
       "  'llano',\n",
       "  'de',\n",
       "  'aquella',\n",
       "  'persona',\n",
       "  'que',\n",
       "  'aún',\n",
       "  'sabiendo',\n",
       "  'que',\n",
       "  'su',\n",
       "  'destino',\n",
       "  'puede',\n",
       "  'ser',\n",
       "  'fatal',\n",
       "  'lucha',\n",
       "  'por',\n",
       "  'cumplirlo',\n",
       "  'pues',\n",
       "  'de',\n",
       "  'él',\n",
       "  'depende',\n",
       "  'la',\n",
       "  'continuidad',\n",
       "  'de',\n",
       "  'su',\n",
       "  'mundo']]"
      ]
     },
     "execution_count": 9,
     "metadata": {},
     "output_type": "execute_result"
    }
   ],
   "source": [
    "# Demos un vistazo\n",
    "sentence_tokens[:2]"
   ]
  },
  {
   "cell_type": "code",
   "execution_count": 11,
   "metadata": {
    "id": "A659lswTbIIB"
   },
   "outputs": [],
   "source": [
    "# Código para hacer el desfasaje de las palabras\n",
    "# según el train_len\n",
    "text_sequences = []\n",
    "\n",
    "for i in range(train_len, len(tokens)):\n",
    "    seq = tokens[i-train_len:i]\n",
    "    text_sequences.append(seq)"
   ]
  },
  {
   "cell_type": "code",
   "execution_count": null,
   "metadata": {
    "id": "01JEoPPnbgRF"
   },
   "outputs": [],
   "source": [
    "# Demos un vistazo a nuestros vectores para entrenar el modelo\n",
    "text_sequences "
   ]
  },
  {
   "cell_type": "markdown",
   "metadata": {
    "id": "4B0gHnKVa4W_"
   },
   "source": [
    "1.2 - Crear los vectores de palabras (word2vec)\n",
    "\n",
    "Ahora necesitamos pasarlos a números para que lo entienda la red y separar input de output.\n",
    "- El Input seran integers (word2vec)\n",
    "- Mientras que el output será one hot encodeado (labels) del tamaño del vocabulario"
   ]
  },
  {
   "cell_type": "code",
   "execution_count": 12,
   "metadata": {
    "id": "fkPNvXeQcS0U"
   },
   "outputs": [],
   "source": [
    "tok = Tokenizer() \n",
    "\n",
    "# El tokenizer \"aprende\" las palabras que se usaran\n",
    "# Se construye (fit) una vez por proyecto, se aplica N veces (tal cual un encoder)\n",
    "# El token 0 es reservado y no es asignado, esta sutileza nos dará un pequeño\n",
    "# problema al momento de hacer la codificación OHE, pero es sencillo de resolver\n",
    "tok.fit_on_texts(text_sequences) \n",
    "\n",
    "# Convertimos las palabras a números\n",
    "# entran palabras -> salen números\n",
    "sequences = tok.texts_to_sequences(text_sequences)"
   ]
  },
  {
   "cell_type": "code",
   "execution_count": 13,
   "metadata": {
    "id": "4SIc44IocyQb"
   },
   "outputs": [
    {
     "data": {
      "text/plain": [
       "[[2, 6, 1, 7],\n",
       " [6, 1, 7, 8],\n",
       " [1, 7, 8, 27],\n",
       " [7, 8, 27, 28],\n",
       " [8, 27, 28, 29],\n",
       " [27, 28, 29, 30],\n",
       " [28, 29, 30, 31],\n",
       " [29, 30, 31, 4],\n",
       " [30, 31, 4, 32],\n",
       " [31, 4, 32, 33],\n",
       " [4, 32, 33, 34],\n",
       " [32, 33, 34, 35],\n",
       " [33, 34, 35, 12],\n",
       " [34, 35, 12, 36],\n",
       " [35, 12, 36, 9],\n",
       " [12, 36, 9, 10],\n",
       " [36, 9, 10, 37],\n",
       " [9, 10, 37, 38],\n",
       " [10, 37, 38, 13],\n",
       " [37, 38, 13, 3],\n",
       " [38, 13, 3, 14],\n",
       " [13, 3, 14, 15],\n",
       " [3, 14, 15, 39],\n",
       " [14, 15, 39, 2],\n",
       " [15, 39, 2, 40],\n",
       " [39, 2, 40, 1],\n",
       " [2, 40, 1, 41],\n",
       " [40, 1, 41, 42],\n",
       " [1, 41, 42, 43],\n",
       " [41, 42, 43, 2],\n",
       " [42, 43, 2, 44],\n",
       " [43, 2, 44, 45],\n",
       " [2, 44, 45, 46],\n",
       " [44, 45, 46, 16],\n",
       " [45, 46, 16, 17],\n",
       " [46, 16, 17, 2],\n",
       " [16, 17, 2, 6],\n",
       " [17, 2, 6, 18],\n",
       " [2, 6, 18, 1],\n",
       " [6, 18, 1, 47],\n",
       " [18, 1, 47, 48],\n",
       " [1, 47, 48, 49],\n",
       " [47, 48, 49, 1],\n",
       " [48, 49, 1, 3],\n",
       " [49, 1, 3, 19],\n",
       " [1, 3, 19, 50],\n",
       " [3, 19, 50, 4],\n",
       " [19, 50, 4, 20],\n",
       " [50, 4, 20, 51],\n",
       " [4, 20, 51, 5],\n",
       " [20, 51, 5, 52],\n",
       " [51, 5, 52, 53],\n",
       " [5, 52, 53, 54],\n",
       " [52, 53, 54, 2],\n",
       " [53, 54, 2, 21],\n",
       " [54, 2, 21, 1],\n",
       " [2, 21, 1, 7],\n",
       " [21, 1, 7, 55],\n",
       " [1, 7, 55, 8],\n",
       " [7, 55, 8, 2],\n",
       " [55, 8, 2, 6],\n",
       " [8, 2, 6, 1],\n",
       " [2, 6, 1, 7],\n",
       " [6, 1, 7, 8],\n",
       " [1, 7, 8, 22],\n",
       " [7, 8, 22, 3],\n",
       " [8, 22, 3, 23],\n",
       " [22, 3, 23, 1],\n",
       " [3, 23, 1, 10],\n",
       " [23, 1, 10, 24],\n",
       " [1, 10, 24, 56],\n",
       " [10, 24, 56, 1],\n",
       " [24, 56, 1, 12],\n",
       " [56, 1, 12, 2],\n",
       " [1, 12, 2, 57],\n",
       " [12, 2, 57, 5],\n",
       " [2, 57, 5, 58],\n",
       " [57, 5, 58, 3],\n",
       " [5, 58, 3, 19],\n",
       " [58, 3, 19, 1],\n",
       " [3, 19, 1, 59],\n",
       " [19, 1, 59, 2],\n",
       " [1, 59, 2, 20],\n",
       " [59, 2, 20, 4],\n",
       " [2, 20, 4, 21],\n",
       " [20, 4, 21, 60],\n",
       " [4, 21, 60, 16],\n",
       " [21, 60, 16, 11],\n",
       " [60, 16, 11, 61],\n",
       " [16, 11, 61, 1],\n",
       " [11, 61, 1, 62],\n",
       " [61, 1, 62, 25],\n",
       " [1, 62, 25, 2],\n",
       " [62, 25, 2, 63],\n",
       " [25, 2, 63, 1],\n",
       " [2, 63, 1, 64],\n",
       " [63, 1, 64, 25],\n",
       " [1, 64, 25, 9],\n",
       " [64, 25, 9, 10],\n",
       " [25, 9, 10, 65],\n",
       " [9, 10, 65, 66],\n",
       " [10, 65, 66, 67],\n",
       " [65, 66, 67, 22],\n",
       " [66, 67, 22, 3],\n",
       " [67, 22, 3, 23],\n",
       " [22, 3, 23, 1],\n",
       " [3, 23, 1, 68],\n",
       " [23, 1, 68, 24],\n",
       " [1, 68, 24, 13],\n",
       " [68, 24, 13, 2],\n",
       " [24, 13, 2, 69],\n",
       " [13, 2, 69, 5],\n",
       " [2, 69, 5, 70],\n",
       " [69, 5, 70, 1],\n",
       " [5, 70, 1, 3],\n",
       " [70, 1, 3, 71],\n",
       " [1, 3, 71, 1],\n",
       " [3, 71, 1, 3],\n",
       " [71, 1, 3, 14],\n",
       " [1, 3, 14, 15],\n",
       " [3, 14, 15, 26],\n",
       " [14, 15, 26, 1],\n",
       " [15, 26, 1, 72],\n",
       " [26, 1, 72, 11],\n",
       " [1, 72, 11, 73],\n",
       " [72, 11, 73, 5],\n",
       " [11, 73, 5, 9],\n",
       " [73, 5, 9, 74],\n",
       " [5, 9, 74, 75],\n",
       " [9, 74, 75, 76],\n",
       " [74, 75, 76, 77],\n",
       " [75, 76, 77, 4],\n",
       " [76, 77, 4, 78],\n",
       " [77, 4, 78, 6],\n",
       " [4, 78, 6, 18],\n",
       " [78, 6, 18, 79],\n",
       " [6, 18, 79, 1],\n",
       " [18, 79, 1, 17],\n",
       " [79, 1, 17, 26],\n",
       " [1, 17, 26, 1],\n",
       " [17, 26, 1, 11],\n",
       " [26, 1, 11, 80],\n",
       " [1, 11, 80, 81],\n",
       " [11, 80, 81, 7]]"
      ]
     },
     "execution_count": 13,
     "metadata": {},
     "output_type": "execute_result"
    }
   ],
   "source": [
    "# Ahora sequences tiene los números \"ID\", largo 4\n",
    "sequences"
   ]
  },
  {
   "cell_type": "code",
   "execution_count": 14,
   "metadata": {
    "id": "3ro81yCQc1oX"
   },
   "outputs": [
    {
     "name": "stdout",
     "output_type": "stream",
     "text": [
      "144\n"
     ]
    }
   ],
   "source": [
    "# Cantidad de casos (doc) de entrada\n",
    "print(tok.document_count)"
   ]
  },
  {
   "cell_type": "code",
   "execution_count": 15,
   "metadata": {
    "id": "nzAWNfroc4u1"
   },
   "outputs": [
    {
     "name": "stdout",
     "output_type": "stream",
     "text": [
      "81\n"
     ]
    }
   ],
   "source": [
    "# Cantidad de veces que aparece cada palabra\n",
    "print(len(tok.word_counts))"
   ]
  },
  {
   "cell_type": "code",
   "execution_count": 16,
   "metadata": {
    "id": "spTBxmFQc6h8"
   },
   "outputs": [
    {
     "name": "stdout",
     "output_type": "stream",
     "text": [
      "{'de': 1, 'el': 2, 'la': 3, 'del': 4, 'que': 5, 'señor': 6, 'los': 7, 'anillos': 8, 'en': 9, 'un': 10, 'las': 11, 'tolkien': 12, 'llamado': 13, 'tierra': 14, 'media': 15, 'a': 16, 'sauron': 17, 'oscuro': 18, 'historia': 19, 'anillo': 20, 'poder': 21, 'constituye': 22, 'continuación': 23, 'libro': 24, 'bolsón': 25, 'y': 26, 'es': 27, 'una': 28, 'novela': 29, 'obra': 30, 'cumbre': 31, 'escritor': 32, 'john': 33, 'ronald': 34, 'reuel': 35, 'ambientada': 36, 'mundo': 37, 'fantástico': 38, 'hacia': 39, 'final': 40, 'su': 41, 'tercera': 42, 'edad': 43, 'título': 44, 'hace': 45, 'referencia': 46, 'mordor': 47, 'principal': 48, 'villano': 49, 'creador': 50, 'único': 51, 'utilizó': 52, 'para': 53, 'controlar': 54, 'demás': 55, 'anterior': 56, 'hobbit': 57, 'cuenta': 58, 'cómo': 59, 'pasa': 60, 'manos': 61, 'bilbo': 62, 'tío': 63, 'frodo': 64, 'nivel': 65, 'más': 66, 'profundo': 67, 'otro': 68, 'silmarillion': 69, 'habla': 70, 'creación': 71, 'todas': 72, 'criaturas': 73, 'ella': 74, 'habitan': 75, 'así': 76, 'como': 77, 'primer': 78, 'maestro': 79, 'luchas': 80, 'por': 81}\n"
     ]
    }
   ],
   "source": [
    "# El índice para cada palabra\n",
    "# El sistema las ordena de las más populares a las menos populares\n",
    "print(tok.word_index)"
   ]
  },
  {
   "cell_type": "code",
   "execution_count": 17,
   "metadata": {
    "id": "nUDkjy80c77h"
   },
   "outputs": [
    {
     "name": "stdout",
     "output_type": "stream",
     "text": [
      "defaultdict(<class 'int'>, {'el': 37, 'los': 13, 'señor': 14, 'de': 65, 'anillos': 12, 'es': 4, 'una': 4, 'novela': 4, 'obra': 4, 'cumbre': 4, 'del': 16, 'escritor': 4, 'john': 4, 'ronald': 4, 'reuel': 4, 'tolkien': 8, 'ambientada': 4, 'en': 12, 'un': 12, 'mundo': 4, 'fantástico': 4, 'llamado': 8, 'la': 27, 'tierra': 8, 'media': 8, 'hacia': 4, 'final': 4, 'su': 4, 'tercera': 4, 'edad': 4, 'título': 4, 'hace': 4, 'referencia': 4, 'a': 8, 'sauron': 8, 'oscuro': 8, 'mordor': 4, 'principal': 4, 'villano': 4, 'historia': 8, 'creador': 4, 'anillo': 8, 'único': 4, 'que': 16, 'utilizó': 4, 'para': 4, 'controlar': 4, 'poder': 8, 'demás': 4, 'constituye': 8, 'continuación': 8, 'libro': 8, 'anterior': 4, 'hobbit': 4, 'cuenta': 4, 'cómo': 4, 'pasa': 4, 'las': 12, 'manos': 4, 'bilbo': 4, 'bolsón': 8, 'tío': 4, 'frodo': 4, 'nivel': 4, 'más': 4, 'profundo': 4, 'otro': 4, 'silmarillion': 4, 'habla': 4, 'creación': 4, 'y': 8, 'todas': 4, 'criaturas': 4, 'ella': 4, 'habitan': 4, 'así': 4, 'como': 4, 'primer': 4, 'maestro': 4, 'luchas': 3, 'por': 2})\n"
     ]
    }
   ],
   "source": [
    "# Cantidad de veces quea aparece cada palabra en cada \"documento\"\n",
    "# (1 documento = 1 caso de entrada)\n",
    "print(tok.word_docs)"
   ]
  },
  {
   "cell_type": "markdown",
   "metadata": {
    "id": "ohS5Tao1d2KB"
   },
   "source": [
    "### 2 - Preprocesamiento completo\n",
    "Debemos realizar los mismos pasos que en el ejemplo anterior, pero antes de eso debemos transformar ese dataset de filas de oraciones en un texto completo continuo para poder extraer el vocabulario."
   ]
  },
  {
   "cell_type": "code",
   "execution_count": 86,
   "metadata": {
    "id": "63Z2-Se2t27r"
   },
   "outputs": [
    {
     "data": {
      "text/plain": [
       "200                  Los ojos de Gandalf relampaguearon.\n",
       "201    —Pronto me llegará el momento de enojarme —dij...\n",
       "202    Gandalf dio un paso hacia el hobbit y pareció ...\n",
       "203    Bilbo retrocedió hacia la pared, respirando ag...\n",
       "204    —No me lo explico, Gandalf —dijo—. Nunca te ha...\n",
       "                             ...                        \n",
       "396    Frodo se sentó en silencio, inmóvil: el miedo ...\n",
       "397    —¡Este anillo! — farfulló —. ¿Cómo rayos vino ...\n",
       "398    —¡Ah! —dijo Gandalf—. Es una historia muy larg...\n",
       "399    »Ayer te hablé de Sauron el Grande, el Señor O...\n",
       "400       —Espero que no suceda en mi época —dijo Frodo.\n",
       "Name: 0, Length: 201, dtype: object"
      ]
     },
     "execution_count": 86,
     "metadata": {},
     "output_type": "execute_result"
    }
   ],
   "source": [
    "# Vistazo a las primeras filas\n",
    "df.loc[200:400,0]"
   ]
  },
  {
   "cell_type": "code",
   "execution_count": 20,
   "metadata": {
    "id": "kILsSoxTuHEr"
   },
   "outputs": [
    {
     "data": {
      "text/plain": [
       "'El Señor de los Anillos es una novela, obra cumbre del escritor John Ronald Reuel Tolkien, ambientada en un mundo fantástico llamado la Tierra Media hacia el final de su Tercera Edad. El título hace referencia a Sauron, el Señor Oscuro de Mordor, principal villano de la historia, creador del Anillo Único que utilizó para controlar el poder de los demás Anillos. El Señor de los Anillos constituye la continuación de un libro anterior de Tolkien, El Hobbit, que cuenta la historia de cómo el Anillo del Poder pasa a las manos de Bilbo Bolsón, el tío de Frodo Bolsón. En un nivel más profundo, constituye la continuación de otro libro llamado El Silmarillion, que habla de la creación de la Tierra Media y de todas las criaturas que en ella habitan, así como del primer Señor Oscuro, maestro de Sauron, y de las luchas por los Silmarils. El Señor de los Anillos narra las aventuras de un grupo de seres: (elfos, hobbits, enanos, humanos), que forman la Comunidad del Anillo en su intento por destruir'"
      ]
     },
     "execution_count": 20,
     "metadata": {},
     "output_type": "execute_result"
    }
   ],
   "source": [
    "# Concatenamos todos los rows en un solo valor\n",
    "corpus = df.apply(lambda row: ' '.join(row.values.astype(str)), axis=0)[0]\n",
    "corpus[:1000]"
   ]
  },
  {
   "cell_type": "code",
   "execution_count": 21,
   "metadata": {
    "id": "_KlsYd7_uOez"
   },
   "outputs": [
    {
     "data": {
      "text/plain": [
       "['el',\n",
       " 'señor',\n",
       " 'de',\n",
       " 'los',\n",
       " 'anillos',\n",
       " 'es',\n",
       " 'una',\n",
       " 'novela',\n",
       " 'obra',\n",
       " 'cumbre',\n",
       " 'del',\n",
       " 'escritor',\n",
       " 'john',\n",
       " 'ronald',\n",
       " 'reuel',\n",
       " 'tolkien',\n",
       " 'ambientada',\n",
       " 'en',\n",
       " 'un',\n",
       " 'mundo']"
      ]
     },
     "execution_count": 21,
     "metadata": {},
     "output_type": "execute_result"
    }
   ],
   "source": [
    "# Transformar el corpus a tokens\n",
    "tokens=text_to_word_sequence(corpus)\n",
    "# Vistazo general de los primeros tokens\n",
    "tokens[:20]"
   ]
  },
  {
   "cell_type": "code",
   "execution_count": 22,
   "metadata": {
    "id": "GlqpZSJOJ1xQ"
   },
   "outputs": [
    {
     "name": "stdout",
     "output_type": "stream",
     "text": [
      "Cantidad de tokens en el corpus: 528420\n"
     ]
    }
   ],
   "source": [
    "print(\"Cantidad de tokens en el corpus:\", len(tokens))"
   ]
  },
  {
   "cell_type": "code",
   "execution_count": 23,
   "metadata": {
    "id": "RhQevOynuYk2"
   },
   "outputs": [],
   "source": [
    "# Código para hacer el desfasaje de las palabras\n",
    "# según el train_len\n",
    "text_sequences = []\n",
    "for i in range(train_len, len(tokens)):\n",
    "    seq = tokens[i-train_len:i]\n",
    "    text_sequences.append(seq)"
   ]
  },
  {
   "cell_type": "code",
   "execution_count": 95,
   "metadata": {
    "id": "FU3FuqHSuhzq"
   },
   "outputs": [
    {
     "data": {
      "text/plain": [
       "[['corriente', 'en', 'todas', 'las'],\n",
       " ['en', 'todas', 'las', 'tierras'],\n",
       " ['todas', 'las', 'tierras', 'de'],\n",
       " ['las', 'tierras', 'de', 'los'],\n",
       " ['tierras', 'de', 'los', 'reyes'],\n",
       " ['de', 'los', 'reyes', 'desde'],\n",
       " ['los', 'reyes', 'desde', 'arnor'],\n",
       " ['reyes', 'desde', 'arnor', 'hasta'],\n",
       " ['desde', 'arnor', 'hasta', 'gondor'],\n",
       " ['arnor', 'hasta', 'gondor', 'y'],\n",
       " ['hasta', 'gondor', 'y', 'a'],\n",
       " ['gondor', 'y', 'a', 'lo'],\n",
       " ['y', 'a', 'lo', 'largo'],\n",
       " ['a', 'lo', 'largo', 'de'],\n",
       " ['lo', 'largo', 'de', 'toda'],\n",
       " ['largo', 'de', 'toda', 'la'],\n",
       " ['de', 'toda', 'la', 'costa'],\n",
       " ['toda', 'la', 'costa', 'del'],\n",
       " ['la', 'costa', 'del', 'mar'],\n",
       " ['costa', 'del', 'mar', 'desde'],\n",
       " ['del', 'mar', 'desde', 'belfalas'],\n",
       " ['mar', 'desde', 'belfalas', 'hasta'],\n",
       " ['desde', 'belfalas', 'hasta', 'lun'],\n",
       " ['belfalas', 'hasta', 'lun', 'sin'],\n",
       " ['hasta', 'lun', 'sin', 'embargo'],\n",
       " ['lun', 'sin', 'embargo', 'conservaron'],\n",
       " ['sin', 'embargo', 'conservaron', 'unos'],\n",
       " ['embargo', 'conservaron', 'unos', 'pocos'],\n",
       " ['conservaron', 'unos', 'pocos', 'vocablos'],\n",
       " ['unos', 'pocos', 'vocablos', 'de'],\n",
       " ['pocos', 'vocablos', 'de', 'su'],\n",
       " ['vocablos', 'de', 'su', 'propio'],\n",
       " ['de', 'su', 'propio', 'idioma'],\n",
       " ['su', 'propio', 'idioma', 'así'],\n",
       " ['propio', 'idioma', 'así', 'como'],\n",
       " ['idioma', 'así', 'como', 'las'],\n",
       " ['así', 'como', 'las', 'palabras'],\n",
       " ['como', 'las', 'palabras', 'que'],\n",
       " ['las', 'palabras', 'que', 'designaban'],\n",
       " ['palabras', 'que', 'designaban', 'los'],\n",
       " ['que', 'designaban', 'los', 'meses'],\n",
       " ['designaban', 'los', 'meses', 'y'],\n",
       " ['los', 'meses', 'y', 'los'],\n",
       " ['meses', 'y', 'los', 'días'],\n",
       " ['y', 'los', 'días', 'y'],\n",
       " ['los', 'días', 'y', 'un'],\n",
       " ['días', 'y', 'un', 'gran'],\n",
       " ['y', 'un', 'gran', 'caudal'],\n",
       " ['un', 'gran', 'caudal', 'de'],\n",
       " ['gran', 'caudal', 'de', 'nombres'],\n",
       " ['caudal', 'de', 'nombres', 'personales'],\n",
       " ['de', 'nombres', 'personales', 'del'],\n",
       " ['nombres', 'personales', 'del', 'pasado'],\n",
       " ['personales', 'del', 'pasado', 'alrededor'],\n",
       " ['del', 'pasado', 'alrededor', 'de'],\n",
       " ['pasado', 'alrededor', 'de', 'esta'],\n",
       " ['alrededor', 'de', 'esta', 'época'],\n",
       " ['de', 'esta', 'época', 'la'],\n",
       " ['esta', 'época', 'la', 'leyenda'],\n",
       " ['época', 'la', 'leyenda', 'comenzó'],\n",
       " ['la', 'leyenda', 'comenzó', 'a'],\n",
       " ['leyenda', 'comenzó', 'a', 'ser'],\n",
       " ['comenzó', 'a', 'ser', 'historia'],\n",
       " ['a', 'ser', 'historia', 'entre'],\n",
       " ['ser', 'historia', 'entre', 'los'],\n",
       " ['historia', 'entre', 'los', 'hobbits'],\n",
       " ['entre', 'los', 'hobbits', 'al'],\n",
       " ['los', 'hobbits', 'al', 'iniciarse'],\n",
       " ['hobbits', 'al', 'iniciarse', 'el'],\n",
       " ['al', 'iniciarse', 'el', 'cómputo'],\n",
       " ['iniciarse', 'el', 'cómputo', 'de'],\n",
       " ['el', 'cómputo', 'de', 'los'],\n",
       " ['cómputo', 'de', 'los', 'años'],\n",
       " ['de', 'los', 'años', 'pues'],\n",
       " ['los', 'años', 'pues', 'fue'],\n",
       " ['años', 'pues', 'fue', 'en'],\n",
       " ['pues', 'fue', 'en', 'el'],\n",
       " ['fue', 'en', 'el', 'año'],\n",
       " ['en', 'el', 'año', 'mil'],\n",
       " ['el', 'año', 'mil', 'seiscientos'],\n",
       " ['año', 'mil', 'seiscientos', 'uno'],\n",
       " ['mil', 'seiscientos', 'uno', 'de'],\n",
       " ['seiscientos', 'uno', 'de', 'la'],\n",
       " ['uno', 'de', 'la', 'tercera'],\n",
       " ['de', 'la', 'tercera', 'edad'],\n",
       " ['la', 'tercera', 'edad', 'cuando'],\n",
       " ['tercera', 'edad', 'cuando', 'los'],\n",
       " ['edad', 'cuando', 'los', 'hermanos'],\n",
       " ['cuando', 'los', 'hermanos', 'albos'],\n",
       " ['los', 'hermanos', 'albos', 'marcho'],\n",
       " ['hermanos', 'albos', 'marcho', 'y'],\n",
       " ['albos', 'marcho', 'y', 'blanco'],\n",
       " ['marcho', 'y', 'blanco', 'salieron'],\n",
       " ['y', 'blanco', 'salieron', 'de'],\n",
       " ['blanco', 'salieron', 'de', 'bree'],\n",
       " ['salieron', 'de', 'bree', 'y'],\n",
       " ['de', 'bree', 'y', 'luego'],\n",
       " ['bree', 'y', 'luego', 'de'],\n",
       " ['y', 'luego', 'de', 'haber'],\n",
       " ['luego', 'de', 'haber', 'obtenido']]"
      ]
     },
     "execution_count": 95,
     "metadata": {},
     "output_type": "execute_result"
    }
   ],
   "source": [
    "# Demos un vistazo a nuestros vectores para entrenar el modelo\n",
    "text_sequences[2000:2100]"
   ]
  },
  {
   "cell_type": "code",
   "execution_count": 25,
   "metadata": {
    "id": "064N2jtLvHRg"
   },
   "outputs": [
    {
     "data": {
      "text/plain": [
       "[[5, 49, 1, 8],\n",
       " [49, 1, 8, 623],\n",
       " [1, 8, 623, 24],\n",
       " [8, 623, 24, 14],\n",
       " [623, 24, 14, 16061],\n",
       " [24, 14, 16061, 1539],\n",
       " [14, 16061, 1539, 5809],\n",
       " [16061, 1539, 5809, 13],\n",
       " [1539, 5809, 13, 11409],\n",
       " [5809, 13, 11409, 11410],\n",
       " [13, 11409, 11410, 11411],\n",
       " [11409, 11410, 11411, 11412],\n",
       " [11410, 11411, 11412, 2938],\n",
       " [11411, 11412, 2938, 16062],\n",
       " [11412, 2938, 16062, 6],\n",
       " [2938, 16062, 6, 11],\n",
       " [16062, 6, 11, 202],\n",
       " [6, 11, 202, 16063],\n",
       " [11, 202, 16063, 1287],\n",
       " [202, 16063, 1287, 3]]"
      ]
     },
     "execution_count": 25,
     "metadata": {},
     "output_type": "execute_result"
    }
   ],
   "source": [
    "# Proceso de tokenización\n",
    "tok = Tokenizer() \n",
    "tok.fit_on_texts(text_sequences) \n",
    "\n",
    "# Convertimos las palabras a números\n",
    "# entran palabras -> salen números\n",
    "sequences = tok.texts_to_sequences(text_sequences)\n",
    "\n",
    "# Damos un vistazo\n",
    "sequences[:20]"
   ]
  },
  {
   "cell_type": "code",
   "execution_count": 26,
   "metadata": {
    "id": "vwsvmvDKKXSP"
   },
   "outputs": [
    {
     "name": "stdout",
     "output_type": "stream",
     "text": [
      "Cantidad de rows del dataset: 528416\n"
     ]
    }
   ],
   "source": [
    "print(\"Cantidad de rows del dataset:\", len(sequences))"
   ]
  },
  {
   "cell_type": "markdown",
   "metadata": {
    "id": "QMVP4bj0vL2e"
   },
   "source": [
    "### 3 - Input y target"
   ]
  },
  {
   "cell_type": "code",
   "execution_count": 27,
   "metadata": {
    "id": "mx2xwdz3KloJ"
   },
   "outputs": [
    {
     "data": {
      "text/plain": [
       "array([[1, 2, 3, 4],\n",
       "       [5, 6, 7, 8]])"
      ]
     },
     "execution_count": 27,
     "metadata": {},
     "output_type": "execute_result"
    }
   ],
   "source": [
    "# Con numpy es muy fácil realizar el slicing de vectores\n",
    "ex = np.array([[1,2,3,4],[5,6,7,8]])\n",
    "ex"
   ]
  },
  {
   "cell_type": "code",
   "execution_count": 28,
   "metadata": {
    "id": "BEod7qghvTVt"
   },
   "outputs": [
    {
     "name": "stdout",
     "output_type": "stream",
     "text": [
      "Dimension: (2, 4)\n",
      "Todos los elementos: [[1 2 3 4]\n",
      " [5 6 7 8]]\n",
      "Todos los elementos menos el último: [[1 2 3]\n",
      " [5 6 7]]\n"
     ]
    }
   ],
   "source": [
    "# Con numpy es muy fácil realizar el slicing de vectores\n",
    "print(\"Dimension:\", ex.shape)\n",
    "print(\"Todos los elementos:\", ex)\n",
    "print(\"Todos los elementos menos el último:\", ex[:, :-1])"
   ]
  },
  {
   "cell_type": "code",
   "execution_count": 29,
   "metadata": {
    "id": "i95xWqtCvp8T"
   },
   "outputs": [
    {
     "name": "stdout",
     "output_type": "stream",
     "text": [
      "Input: [[1 2 3]\n",
      " [5 6 7]]\n",
      "Target: [4 8]\n"
     ]
    }
   ],
   "source": [
    "input = ex[:,:-1] # todos los rows, menos la ultima col\n",
    "target = ex[:, -1] # última col de cada row\n",
    "\n",
    "print(\"Input:\", input)\n",
    "print(\"Target:\", target)"
   ]
  },
  {
   "cell_type": "code",
   "execution_count": 30,
   "metadata": {
    "id": "e1vJTG65v4Qn"
   },
   "outputs": [
    {
     "name": "stdout",
     "output_type": "stream",
     "text": [
      "(528416, 3)\n",
      "(528416,)\n"
     ]
    }
   ],
   "source": [
    "arr_sequences = np.array(sequences)\n",
    "x_data = arr_sequences[:,:-1]\n",
    "y_data_int = arr_sequences[:,-1] # aún falta el oneHotEncoder\n",
    "\n",
    "print(x_data.shape)\n",
    "print(y_data_int.shape)"
   ]
  },
  {
   "cell_type": "code",
   "execution_count": 37,
   "metadata": {
    "id": "ln6kVWVlwBBs"
   },
   "outputs": [
    {
     "data": {
      "text/plain": [
       "[(1, 'de'),\n",
       " (2, 'y'),\n",
       " (3, 'la'),\n",
       " (4, 'que'),\n",
       " (5, 'el'),\n",
       " (6, 'en'),\n",
       " (7, 'a'),\n",
       " (8, 'los'),\n",
       " (9, 'se'),\n",
       " (10, 'no'),\n",
       " (11, 'un'),\n",
       " (12, 'las'),\n",
       " (13, 'del'),\n",
       " (14, 'una'),\n",
       " (15, 'pero'),\n",
       " (16, 'lo'),\n",
       " (17, 'por'),\n",
       " (18, 'con'),\n",
       " (19, 'al'),\n",
       " (20, 'más')]"
      ]
     },
     "execution_count": 37,
     "metadata": {},
     "output_type": "execute_result"
    }
   ],
   "source": [
    "# Palabras del vocabulario\n",
    "list(tok.index_word.items())[:20]"
   ]
  },
  {
   "cell_type": "code",
   "execution_count": 38,
   "metadata": {
    "id": "gJgVhq1zwEpf"
   },
   "outputs": [
    {
     "data": {
      "text/plain": [
       "30010"
      ]
     },
     "execution_count": 38,
     "metadata": {},
     "output_type": "execute_result"
    }
   ],
   "source": [
    "# Cantidad de palabras en el vocabulario\n",
    "vocab_size = len(tok.word_counts)\n",
    "vocab_size"
   ]
  },
  {
   "cell_type": "code",
   "execution_count": 39,
   "metadata": {},
   "outputs": [
    {
     "data": {
      "text/plain": [
       "array([  8, 623,  24, ..., 217,   1,  52])"
      ]
     },
     "execution_count": 39,
     "metadata": {},
     "output_type": "execute_result"
    }
   ],
   "source": [
    "y_data_int"
   ]
  },
  {
   "cell_type": "code",
   "execution_count": 41,
   "metadata": {
    "id": "wKV85M2uwKJ9"
   },
   "outputs": [],
   "source": [
    "# Transformar los datos a oneHotEncoding\n",
    "# y_data = to_categorical(y_data_int, num_classes=vocab_size)"
   ]
  },
  {
   "cell_type": "code",
   "execution_count": 42,
   "metadata": {
    "id": "qWjNrNx9wM1b"
   },
   "outputs": [
    {
     "data": {
      "text/plain": [
       "1"
      ]
     },
     "execution_count": 42,
     "metadata": {},
     "output_type": "execute_result"
    }
   ],
   "source": [
    "# En el caso anterior explota porque y_data_int comienza en \"1\" en vez de \"0\"\n",
    "# valor minimo:\n",
    "min(y_data_int)"
   ]
  },
  {
   "cell_type": "code",
   "execution_count": 43,
   "metadata": {
    "id": "gIg2e2WCwXbG"
   },
   "outputs": [
    {
     "data": {
      "text/plain": [
       "(528416, 30010)"
      ]
     },
     "execution_count": 43,
     "metadata": {},
     "output_type": "execute_result"
    }
   ],
   "source": [
    "y_data_int_offset = y_data_int - 1\n",
    "y_data = to_categorical(y_data_int_offset, num_classes=vocab_size) \n",
    "y_data.shape"
   ]
  },
  {
   "cell_type": "markdown",
   "metadata": {
    "id": "GmJWNyxQwfCE"
   },
   "source": [
    "### 4 - Entrenar el modelo"
   ]
  },
  {
   "cell_type": "code",
   "execution_count": 44,
   "metadata": {
    "id": "0cOmNZT_weK2"
   },
   "outputs": [
    {
     "data": {
      "text/plain": [
       "3"
      ]
     },
     "execution_count": 44,
     "metadata": {},
     "output_type": "execute_result"
    }
   ],
   "source": [
    "# largo de la secuencia de entrada\n",
    "input_seq_len = x_data.shape[1] \n",
    "input_seq_len"
   ]
  },
  {
   "cell_type": "code",
   "execution_count": 45,
   "metadata": {
    "id": "qtwITjgnwlgp"
   },
   "outputs": [
    {
     "data": {
      "text/plain": [
       "30010"
      ]
     },
     "execution_count": 45,
     "metadata": {},
     "output_type": "execute_result"
    }
   ],
   "source": [
    "# Largo del vector de salida --> vocab_size\n",
    "output_size = vocab_size\n",
    "output_size"
   ]
  },
  {
   "cell_type": "code",
   "execution_count": null,
   "metadata": {},
   "outputs": [],
   "source": []
  },
  {
   "cell_type": "code",
   "execution_count": 80,
   "metadata": {
    "id": "jzTZRXrrwrvi"
   },
   "outputs": [
    {
     "name": "stdout",
     "output_type": "stream",
     "text": [
      "Model: \"sequential_18\"\n",
      "_________________________________________________________________\n",
      " Layer (type)                Output Shape              Param #   \n",
      "=================================================================\n",
      " embedding_18 (Embedding)    (None, 3, 5)              150055    \n",
      "                                                                 \n",
      " gru_36 (GRU)                (None, 3, 128)            51840     \n",
      "                                                                 \n",
      " dropout_24 (Dropout)        (None, 3, 128)            0         \n",
      "                                                                 \n",
      " gru_37 (GRU)                (None, 3, 64)             37248     \n",
      "                                                                 \n",
      " dropout_25 (Dropout)        (None, 3, 64)             0         \n",
      "                                                                 \n",
      " gru_38 (GRU)                (None, 3, 128)            74496     \n",
      "                                                                 \n",
      " dropout_26 (Dropout)        (None, 3, 128)            0         \n",
      "                                                                 \n",
      " gru_39 (GRU)                (None, 3, 64)             37248     \n",
      "                                                                 \n",
      " dropout_27 (Dropout)        (None, 3, 64)             0         \n",
      "                                                                 \n",
      " gru_40 (GRU)                (None, 32)                9408      \n",
      "                                                                 \n",
      " dense_16 (Dense)            (None, 32)                1056      \n",
      "                                                                 \n",
      " dense_17 (Dense)            (None, 30010)             990330    \n",
      "                                                                 \n",
      "=================================================================\n",
      "Total params: 1,351,681\n",
      "Trainable params: 1,351,681\n",
      "Non-trainable params: 0\n",
      "_________________________________________________________________\n"
     ]
    }
   ],
   "source": [
    "model = Sequential()\n",
    "\n",
    "# Embedding:\n",
    "# input_seq_len = 3 --> ingreso 3 palabras\n",
    "# input_dim = vocab_size --> 1628 palabras distintas\n",
    "# output_dim = 5 --> crear embeddings de tamaño 3 (tamaño variable y ajustable)\n",
    "model.add(Embedding(input_dim=vocab_size+1, output_dim=5, input_length=input_seq_len))\n",
    "\n",
    "model.add(GRU(128, return_sequences=True))\n",
    "model.add(Dropout(0.2))\n",
    "model.add(GRU(64, return_sequences=True))\n",
    "model.add(Dropout(0.2))\n",
    "model.add(GRU(128, return_sequences=True))\n",
    "model.add(Dropout(0.2))\n",
    "model.add(GRU(64, return_sequences=True))\n",
    "model.add(Dropout(0.2))\n",
    "model.add(GRU(32)) \n",
    "model.add(Dense(32, activation='relu'))\n",
    "\n",
    "\n",
    "# Predicción de clasificación con softmax\n",
    "# La salida vuelve al espacio de 1628 palabras posibles\n",
    "model.add(Dense(vocab_size, activation='softmax'))\n",
    "\n",
    "# Clasificación multiple categórica --> loss = categorical_crossentropy\n",
    "model.compile(loss='categorical_crossentropy', optimizer='adam', metrics=['accuracy'])\n",
    "\n",
    "model.summary()"
   ]
  },
  {
   "cell_type": "code",
   "execution_count": 81,
   "metadata": {
    "id": "oQq1PHDkxDvN"
   },
   "outputs": [
    {
     "name": "stdout",
     "output_type": "stream",
     "text": [
      "Epoch 1/50\n",
      "13211/13211 [==============================] - 384s 29ms/step - loss: 7.1747 - accuracy: 0.0465 - val_loss: 7.4805 - val_accuracy: 0.0561\n",
      "Epoch 2/50\n",
      "13211/13211 [==============================] - 360s 27ms/step - loss: 6.8790 - accuracy: 0.0476 - val_loss: 7.3291 - val_accuracy: 0.0570\n",
      "Epoch 3/50\n",
      "13211/13211 [==============================] - 359s 27ms/step - loss: 6.6395 - accuracy: 0.0646 - val_loss: 7.1964 - val_accuracy: 0.0804\n",
      "Epoch 4/50\n",
      "13211/13211 [==============================] - 343s 26ms/step - loss: 6.4761 - accuracy: 0.0725 - val_loss: 7.1601 - val_accuracy: 0.0873\n",
      "Epoch 5/50\n",
      "13211/13211 [==============================] - 341s 26ms/step - loss: 6.3589 - accuracy: 0.0782 - val_loss: 7.0934 - val_accuracy: 0.0890\n",
      "Epoch 6/50\n",
      "13211/13211 [==============================] - 340s 26ms/step - loss: 6.2721 - accuracy: 0.0815 - val_loss: 7.0699 - val_accuracy: 0.0903\n",
      "Epoch 7/50\n",
      "13211/13211 [==============================] - 342s 26ms/step - loss: 6.2127 - accuracy: 0.0835 - val_loss: 7.0648 - val_accuracy: 0.0906\n",
      "Epoch 8/50\n",
      "13211/13211 [==============================] - 342s 26ms/step - loss: 6.1649 - accuracy: 0.0871 - val_loss: 7.0413 - val_accuracy: 0.0966\n",
      "Epoch 9/50\n",
      "13211/13211 [==============================] - 347s 26ms/step - loss: 6.1238 - accuracy: 0.0909 - val_loss: 7.0302 - val_accuracy: 0.0991\n",
      "Epoch 10/50\n",
      "13211/13211 [==============================] - 345s 26ms/step - loss: 6.0847 - accuracy: 0.0936 - val_loss: 7.0015 - val_accuracy: 0.0991\n",
      "Epoch 11/50\n",
      "13211/13211 [==============================] - 351s 27ms/step - loss: 6.0508 - accuracy: 0.0955 - val_loss: 7.0067 - val_accuracy: 0.0999\n",
      "Epoch 12/50\n",
      "13211/13211 [==============================] - 377s 29ms/step - loss: 6.0233 - accuracy: 0.0973 - val_loss: 7.0199 - val_accuracy: 0.1007\n",
      "Epoch 13/50\n",
      "13211/13211 [==============================] - 379s 29ms/step - loss: 5.9983 - accuracy: 0.0993 - val_loss: 7.0200 - val_accuracy: 0.1022\n",
      "Epoch 14/50\n",
      "13211/13211 [==============================] - 417s 32ms/step - loss: 5.9785 - accuracy: 0.1007 - val_loss: 7.0327 - val_accuracy: 0.1007\n",
      "Epoch 15/50\n",
      "13211/13211 [==============================] - 394s 30ms/step - loss: 5.9581 - accuracy: 0.1018 - val_loss: 7.0333 - val_accuracy: 0.1003\n",
      "Epoch 16/50\n",
      "13211/13211 [==============================] - 379s 29ms/step - loss: 5.9409 - accuracy: 0.1030 - val_loss: 7.0430 - val_accuracy: 0.1036\n",
      "Epoch 17/50\n",
      "13211/13211 [==============================] - 373s 28ms/step - loss: 5.9226 - accuracy: 0.1041 - val_loss: 7.0423 - val_accuracy: 0.1036\n",
      "Epoch 18/50\n",
      "13211/13211 [==============================] - 367s 28ms/step - loss: 5.9082 - accuracy: 0.1055 - val_loss: 7.0381 - val_accuracy: 0.1043\n",
      "Epoch 19/50\n",
      "13211/13211 [==============================] - 348s 26ms/step - loss: 5.8939 - accuracy: 0.1061 - val_loss: 7.0590 - val_accuracy: 0.1036\n",
      "Epoch 20/50\n",
      "13211/13211 [==============================] - 346s 26ms/step - loss: 5.8751 - accuracy: 0.1081 - val_loss: 7.0697 - val_accuracy: 0.1043\n",
      "Epoch 21/50\n",
      "13211/13211 [==============================] - 345s 26ms/step - loss: 5.8584 - accuracy: 0.1083 - val_loss: 7.0872 - val_accuracy: 0.1037\n",
      "Epoch 22/50\n",
      "13211/13211 [==============================] - 345s 26ms/step - loss: 5.8458 - accuracy: 0.1097 - val_loss: 7.1019 - val_accuracy: 0.1054\n",
      "Epoch 23/50\n",
      "13211/13211 [==============================] - 345s 26ms/step - loss: 5.8324 - accuracy: 0.1104 - val_loss: 7.1075 - val_accuracy: 0.1051\n",
      "Epoch 24/50\n",
      "13211/13211 [==============================] - 346s 26ms/step - loss: 5.8192 - accuracy: 0.1110 - val_loss: 7.1443 - val_accuracy: 0.1057\n",
      "Epoch 25/50\n",
      "13211/13211 [==============================] - 347s 26ms/step - loss: 5.8087 - accuracy: 0.1121 - val_loss: 7.1428 - val_accuracy: 0.1064\n",
      "Epoch 26/50\n",
      "13211/13211 [==============================] - 346s 26ms/step - loss: 5.7974 - accuracy: 0.1126 - val_loss: 7.1473 - val_accuracy: 0.1056\n",
      "Epoch 27/50\n",
      "13211/13211 [==============================] - 346s 26ms/step - loss: 5.7872 - accuracy: 0.1134 - val_loss: 7.1734 - val_accuracy: 0.1078\n",
      "Epoch 28/50\n",
      "13211/13211 [==============================] - 347s 26ms/step - loss: 5.7775 - accuracy: 0.1139 - val_loss: 7.1680 - val_accuracy: 0.1058\n",
      "Epoch 29/50\n",
      "13211/13211 [==============================] - 348s 26ms/step - loss: 5.7709 - accuracy: 0.1146 - val_loss: 7.1897 - val_accuracy: 0.1051\n",
      "Epoch 30/50\n",
      "13211/13211 [==============================] - 348s 26ms/step - loss: 5.7621 - accuracy: 0.1149 - val_loss: 7.1991 - val_accuracy: 0.1075\n",
      "Epoch 31/50\n",
      "13211/13211 [==============================] - 348s 26ms/step - loss: 5.7522 - accuracy: 0.1152 - val_loss: 7.2328 - val_accuracy: 0.1065\n",
      "Epoch 32/50\n",
      "13211/13211 [==============================] - 349s 26ms/step - loss: 5.7461 - accuracy: 0.1158 - val_loss: 7.2639 - val_accuracy: 0.1068\n",
      "Epoch 33/50\n",
      "13211/13211 [==============================] - 349s 26ms/step - loss: 5.7397 - accuracy: 0.1160 - val_loss: 7.2704 - val_accuracy: 0.1070\n",
      "Epoch 34/50\n",
      "13211/13211 [==============================] - 351s 27ms/step - loss: 5.7361 - accuracy: 0.1164 - val_loss: 7.3067 - val_accuracy: 0.1074\n",
      "Epoch 35/50\n",
      "13211/13211 [==============================] - 350s 27ms/step - loss: 5.7311 - accuracy: 0.1167 - val_loss: 7.3246 - val_accuracy: 0.1063\n",
      "Epoch 36/50\n",
      "13211/13211 [==============================] - 350s 27ms/step - loss: 5.7287 - accuracy: 0.1166 - val_loss: 7.3463 - val_accuracy: 0.1070\n",
      "Epoch 37/50\n",
      "13211/13211 [==============================] - 351s 27ms/step - loss: 5.7264 - accuracy: 0.1174 - val_loss: 7.3821 - val_accuracy: 0.1070\n",
      "Epoch 38/50\n",
      "13211/13211 [==============================] - 351s 27ms/step - loss: 5.7248 - accuracy: 0.1175 - val_loss: 7.4366 - val_accuracy: 0.1070\n",
      "Epoch 39/50\n",
      "13211/13211 [==============================] - 350s 27ms/step - loss: 5.7240 - accuracy: 0.1183 - val_loss: 7.5175 - val_accuracy: 0.1064\n",
      "Epoch 40/50\n",
      "13211/13211 [==============================] - 351s 27ms/step - loss: 5.7210 - accuracy: 0.1184 - val_loss: 7.5712 - val_accuracy: 0.1073\n",
      "Epoch 41/50\n",
      "13211/13211 [==============================] - 350s 26ms/step - loss: 5.7206 - accuracy: 0.1186 - val_loss: 7.6568 - val_accuracy: 0.1068\n",
      "Epoch 42/50\n",
      "13211/13211 [==============================] - 351s 27ms/step - loss: 5.7183 - accuracy: 0.1189 - val_loss: 7.7027 - val_accuracy: 0.1068\n",
      "Epoch 43/50\n",
      "13211/13211 [==============================] - 351s 27ms/step - loss: 5.7162 - accuracy: 0.1194 - val_loss: 7.7496 - val_accuracy: 0.1074\n",
      "Epoch 44/50\n",
      "13211/13211 [==============================] - 351s 27ms/step - loss: 5.7164 - accuracy: 0.1200 - val_loss: 7.8232 - val_accuracy: 0.1088\n",
      "Epoch 45/50\n",
      "13211/13211 [==============================] - 352s 27ms/step - loss: 5.7145 - accuracy: 0.1205 - val_loss: 7.9049 - val_accuracy: 0.1096\n",
      "Epoch 46/50\n",
      "13211/13211 [==============================] - 351s 27ms/step - loss: 5.7118 - accuracy: 0.1213 - val_loss: 7.9654 - val_accuracy: 0.1089\n",
      "Epoch 47/50\n",
      "13211/13211 [==============================] - 352s 27ms/step - loss: 5.7093 - accuracy: 0.1214 - val_loss: 8.0282 - val_accuracy: 0.1079\n",
      "Epoch 48/50\n",
      "13211/13211 [==============================] - 352s 27ms/step - loss: 5.7094 - accuracy: 0.1217 - val_loss: 8.0982 - val_accuracy: 0.1094\n",
      "Epoch 49/50\n",
      "13211/13211 [==============================] - 353s 27ms/step - loss: 5.7070 - accuracy: 0.1219 - val_loss: 8.1718 - val_accuracy: 0.1091\n",
      "Epoch 50/50\n",
      "13211/13211 [==============================] - 351s 27ms/step - loss: 5.7062 - accuracy: 0.1223 - val_loss: 8.2573 - val_accuracy: 0.1091\n"
     ]
    }
   ],
   "source": [
    "hist = model.fit(x_data, y_data, epochs=50, validation_split=0.2)"
   ]
  },
  {
   "cell_type": "code",
   "execution_count": 82,
   "metadata": {
    "id": "q_orBXOrCsNn"
   },
   "outputs": [
    {
     "data": {
      "image/png": "[encoded data removed]",
      "text/plain": [
       "<Figure size 640x480 with 1 Axes>"
      ]
     },
     "metadata": {},
     "output_type": "display_data"
    }
   ],
   "source": [
    "import matplotlib.pyplot as plt\n",
    "import seaborn as sns\n",
    "\n",
    "# Entrenamiento\n",
    "epoch_count = range(1, len(hist.history['accuracy']) + 1)\n",
    "sns.lineplot(x=epoch_count,  y=hist.history['accuracy'], label='train')\n",
    "sns.lineplot(x=epoch_count,  y=hist.history['val_accuracy'], label='valid')\n",
    "plt.show()"
   ]
  },
  {
   "cell_type": "markdown",
   "metadata": {
    "id": "KN6Fg_BsxJe6"
   },
   "source": [
    "### 5 - Predicción de próxima palabra"
   ]
  },
  {
   "cell_type": "code",
   "execution_count": null,
   "metadata": {
    "id": "iy_AXWQWzeeE"
   },
   "outputs": [],
   "source": [
    "# Keras pad_sequences\n",
    "# https://www.tensorflow.org/api_docs/python/tf/keras/preprocessing/sequence/pad_sequences\n",
    "# Si la secuencia de entrada supera al input_seq_len (3) se trunca\n",
    "# Si la secuencia es más corta se agregna ceros al comienzo"
   ]
  },
  {
   "cell_type": "code",
   "execution_count": 49,
   "metadata": {
    "id": "IBvKHFPmzpy2"
   },
   "outputs": [],
   "source": [
    "# Se utilizará gradio para ensayar el modelo\n",
    "# Herramienta poderosa para crear interfaces rápidas para ensayar modelos\n",
    "# https://gradio.app/\n",
    "# import sys\n",
    "# !{sys.executable} -m pip install gradio --quiet"
   ]
  },
  {
   "cell_type": "code",
   "execution_count": 83,
   "metadata": {
    "id": "HNyBykvhzs7-"
   },
   "outputs": [
    {
     "name": "stdout",
     "output_type": "stream",
     "text": [
      "IMPORTANT: You are using gradio version 2.6.4, however version 3.14.0 is available, please upgrade.\n",
      "--------\n",
      "Running on local URL:  http://127.0.0.1:7862/\n",
      "\n",
      "To create a public link, set `share=True` in `launch()`.\n"
     ]
    },
    {
     "data": {
      "text/html": [
       "\n",
       "        <iframe\n",
       "            width=\"900\"\n",
       "            height=\"500\"\n",
       "            src=\"http://127.0.0.1:7862/\"\n",
       "            frameborder=\"0\"\n",
       "            allowfullscreen\n",
       "            \n",
       "        ></iframe>\n",
       "        "
      ],
      "text/plain": [
       "<IPython.lib.display.IFrame at 0x7f983970ca60>"
      ]
     },
     "metadata": {},
     "output_type": "display_data"
    },
    {
     "name": "stdout",
     "output_type": "stream",
     "text": [
      "1/1 [==============================] - 2s 2s/step\n",
      "1/1 [==============================] - 0s 16ms/step\n",
      "1/1 [==============================] - 0s 18ms/step\n"
     ]
    },
    {
     "ename": "KeyboardInterrupt",
     "evalue": "",
     "output_type": "error",
     "traceback": [
      "\u001b[0;31m---------------------------------------------------------------------------\u001b[0m",
      "\u001b[0;31mKeyboardInterrupt\u001b[0m                         Traceback (most recent call last)",
      "\u001b[0;32m/var/folders/4l/djq4w_j528l0kn8vz8grry4m0000gn/T/ipykernel_27054/182099320.py\u001b[0m in \u001b[0;36m<module>\u001b[0;34m\u001b[0m\n\u001b[1;32m     28\u001b[0m     layout=\"vertical\")\n\u001b[1;32m     29\u001b[0m \u001b[0;34m\u001b[0m\u001b[0m\n\u001b[0;32m---> 30\u001b[0;31m \u001b[0miface\u001b[0m\u001b[0;34m.\u001b[0m\u001b[0mlaunch\u001b[0m\u001b[0;34m(\u001b[0m\u001b[0mdebug\u001b[0m\u001b[0;34m=\u001b[0m\u001b[0;32mTrue\u001b[0m\u001b[0;34m)\u001b[0m\u001b[0;34m\u001b[0m\u001b[0;34m\u001b[0m\u001b[0m\n\u001b[0m",
      "\u001b[0;32m/usr/local/anaconda3/lib/python3.9/site-packages/gradio/interface.py\u001b[0m in \u001b[0;36mlaunch\u001b[0;34m(self, inline, inbrowser, share, debug, auth, auth_message, private_endpoint, prevent_thread_lock, show_error, server_name, server_port, show_tips, enable_queue, height, width, encrypt, cache_examples)\u001b[0m\n\u001b[1;32m    615\u001b[0m             \u001b[0;32mwhile\u001b[0m \u001b[0;32mTrue\u001b[0m\u001b[0;34m:\u001b[0m\u001b[0;34m\u001b[0m\u001b[0;34m\u001b[0m\u001b[0m\n\u001b[1;32m    616\u001b[0m                 \u001b[0msys\u001b[0m\u001b[0;34m.\u001b[0m\u001b[0mstdout\u001b[0m\u001b[0;34m.\u001b[0m\u001b[0mflush\u001b[0m\u001b[0;34m(\u001b[0m\u001b[0;34m)\u001b[0m\u001b[0;34m\u001b[0m\u001b[0;34m\u001b[0m\u001b[0m\n\u001b[0;32m--> 617\u001b[0;31m                 \u001b[0mtime\u001b[0m\u001b[0;34m.\u001b[0m\u001b[0msleep\u001b[0m\u001b[0;34m(\u001b[0m\u001b[0;36m0.1\u001b[0m\u001b[0;34m)\u001b[0m\u001b[0;34m\u001b[0m\u001b[0;34m\u001b[0m\u001b[0m\n\u001b[0m\u001b[1;32m    618\u001b[0m         is_in_interactive_mode = bool(\n\u001b[1;32m    619\u001b[0m             getattr(sys, 'ps1', sys.flags.interactive))\n",
      "\u001b[0;31mKeyboardInterrupt\u001b[0m: "
     ]
    }
   ],
   "source": [
    "import gradio as gr\n",
    "\n",
    "def model_response(human_text):\n",
    "\n",
    "    # Encodeamos\n",
    "    encoded = tok.texts_to_sequences([human_text])[0]\n",
    "    # Si tienen distinto largo\n",
    "    encoded = pad_sequences([encoded], maxlen=3, padding='pre')\n",
    "    \n",
    "    # Predicción softmax\n",
    "    y_hat = model.predict(encoded).argmax(axis=-1)\n",
    "\n",
    "    # Debemos buscar en el vocabulario la palabra\n",
    "    # que corresopnde al indice (y_hat) predicho por le modelo\n",
    "    out_word = ''\n",
    "    for word, index in tok.word_index.items():\n",
    "        if index == y_hat:\n",
    "            out_word = word\n",
    "            break\n",
    "\n",
    "    # Agrego la palabra a la frase predicha\n",
    "    return human_text + ' ' + out_word\n",
    "\n",
    "iface = gr.Interface(\n",
    "    fn=model_response,\n",
    "    inputs=[\"textbox\"],\n",
    "    outputs=\"text\",\n",
    "    layout=\"vertical\")\n",
    "\n",
    "iface.launch(debug=True)"
   ]
  },
  {
   "cell_type": "markdown",
   "metadata": {
    "id": "mCeMWWupxN1-"
   },
   "source": [
    "### 6 - Generación de secuencias nuevas"
   ]
  },
  {
   "cell_type": "code",
   "execution_count": 84,
   "metadata": {
    "id": "bwbS_pfhxvB3"
   },
   "outputs": [],
   "source": [
    "def generate_seq(model, tokenizer, seed_text, max_length, n_words):\n",
    "    \"\"\"\n",
    "        Exec model sequence prediction\n",
    "\n",
    "        Args:\n",
    "            model (keras): modelo entrenado\n",
    "            tokenizer (keras tokenizer): tonenizer utilizado en el preprocesamiento\n",
    "            seed_text (string): texto de entrada (input_seq)\n",
    "            max_length (int): máxima longitud de la sequencia de entrada\n",
    "            n_words (int): números de palabras a agregar a la sequencia de entrada\n",
    "        returns:\n",
    "            output_text (string): sentencia con las \"n_words\" agregadas\n",
    "    \"\"\"\n",
    "    output_text = seed_text\n",
    "\t# generate a fixed number of words\n",
    "    for _ in range(n_words):\n",
    "\t\t# Encodeamos\n",
    "        encoded = tokenizer.texts_to_sequences([output_text])[0]\n",
    "\t\t# Si tienen distinto largo\n",
    "        encoded = pad_sequences([encoded], maxlen=max_length, padding='pre')\n",
    "\t\t\n",
    "\t\t# Predicción softmax\n",
    "        y_hat = model.predict(encoded).argmax(axis=-1)\n",
    "\t\t# Vamos concatenando las predicciones\n",
    "        out_word = ''\n",
    "\n",
    "        # Debemos buscar en el vocabulario la palabra\n",
    "        # que corresopnde al indice (y_hat) predicho por le modelo\n",
    "        for word, index in tokenizer.word_index.items():\n",
    "            if index == y_hat:\n",
    "                out_word = word\n",
    "                break\n",
    "\n",
    "\t\t# Agrego las palabras a la frase predicha\n",
    "        output_text += ' ' + out_word\n",
    "    return output_text"
   ]
  },
  {
   "cell_type": "code",
   "execution_count": 85,
   "metadata": {
    "id": "JoFqRC5pxzqS"
   },
   "outputs": [
    {
     "name": "stdout",
     "output_type": "stream",
     "text": [
      "1/1 [==============================] - 0s 23ms/step\n",
      "1/1 [==============================] - 0s 16ms/step\n"
     ]
    },
    {
     "data": {
      "text/plain": [
       "'El señor de los qué los'"
      ]
     },
     "execution_count": 85,
     "metadata": {},
     "output_type": "execute_result"
    }
   ],
   "source": [
    "input_text='El señor de los'\n",
    "\n",
    "generate_seq(model, tok, input_text, max_length=3, n_words=2)"
   ]
  },
  {
   "cell_type": "code",
   "execution_count": 87,
   "metadata": {},
   "outputs": [
    {
     "name": "stdout",
     "output_type": "stream",
     "text": [
      "1/1 [==============================] - 0s 18ms/step\n",
      "1/1 [==============================] - 0s 55ms/step\n"
     ]
    },
    {
     "data": {
      "text/plain": [
       "'Los ojos de y la'"
      ]
     },
     "execution_count": 87,
     "metadata": {},
     "output_type": "execute_result"
    }
   ],
   "source": [
    "input_text='Los ojos de'\n",
    "\n",
    "generate_seq(model, tok, input_text, max_length=3, n_words=2)"
   ]
  },
  {
   "cell_type": "code",
   "execution_count": 88,
   "metadata": {},
   "outputs": [
    {
     "name": "stdout",
     "output_type": "stream",
     "text": [
      "1/1 [==============================] - 0s 18ms/step\n",
      "1/1 [==============================] - 0s 16ms/step\n"
     ]
    },
    {
     "data": {
      "text/plain": [
       "'Ojos de gandalf de y'"
      ]
     },
     "execution_count": 88,
     "metadata": {},
     "output_type": "execute_result"
    }
   ],
   "source": [
    "input_text='Ojos de gandalf'\n",
    "\n",
    "generate_seq(model, tok, input_text, max_length=3, n_words=2)"
   ]
  },
  {
   "cell_type": "code",
   "execution_count": 89,
   "metadata": {},
   "outputs": [
    {
     "name": "stdout",
     "output_type": "stream",
     "text": [
      "1/1 [==============================] - 0s 18ms/step\n",
      "1/1 [==============================] - 0s 17ms/step\n"
     ]
    },
    {
     "data": {
      "text/plain": [
       "'Bilbo retrocedio hacia que a'"
      ]
     },
     "execution_count": 89,
     "metadata": {},
     "output_type": "execute_result"
    }
   ],
   "source": [
    "input_text='Bilbo retrocedio hacia'\n",
    "\n",
    "generate_seq(model, tok, input_text, max_length=3, n_words=2)"
   ]
  },
  {
   "cell_type": "code",
   "execution_count": 93,
   "metadata": {},
   "outputs": [
    {
     "name": "stdout",
     "output_type": "stream",
     "text": [
      "1/1 [==============================] - 0s 19ms/step\n",
      "1/1 [==============================] - 0s 20ms/step\n"
     ]
    },
    {
     "data": {
      "text/plain": [
       "'gandalf el gris de y'"
      ]
     },
     "execution_count": 93,
     "metadata": {},
     "output_type": "execute_result"
    }
   ],
   "source": [
    "input_text='gandalf el gris'\n",
    "\n",
    "generate_seq(model, tok, input_text, max_length=3, n_words=2)"
   ]
  },
  {
   "cell_type": "code",
   "execution_count": 96,
   "metadata": {},
   "outputs": [
    {
     "name": "stdout",
     "output_type": "stream",
     "text": [
      "1/1 [==============================] - 0s 17ms/step\n",
      "1/1 [==============================] - 0s 18ms/step\n"
     ]
    },
    {
     "data": {
      "text/plain": [
       "'nombres personales del yelmo de'"
      ]
     },
     "execution_count": 96,
     "metadata": {},
     "output_type": "execute_result"
    }
   ],
   "source": [
    "input_text='nombres personales del'\n",
    "\n",
    "generate_seq(model, tok, input_text, max_length=3, n_words=2)"
   ]
  },
  {
   "cell_type": "code",
   "execution_count": 97,
   "metadata": {},
   "outputs": [
    {
     "name": "stdout",
     "output_type": "stream",
     "text": [
      "1/1 [==============================] - 0s 17ms/step\n",
      "1/1 [==============================] - 0s 17ms/step\n"
     ]
    },
    {
     "data": {
      "text/plain": [
       "'desde arnor hasta la fin'"
      ]
     },
     "execution_count": 97,
     "metadata": {},
     "output_type": "execute_result"
    }
   ],
   "source": [
    "input_text='desde arnor hasta'\n",
    "\n",
    "generate_seq(model, tok, input_text, max_length=3, n_words=2)"
   ]
  },
  {
   "cell_type": "markdown",
   "metadata": {
    "id": "T2SHmXbgxQH9"
   },
   "source": [
    "### 7 - Conclusiones\n",
    "El modelo entrenado tuvo un muy mail desempeño en el entrenamiento además de overfitting. Cuestiones que podrían mejorarse:\n",
    "- Agregar más capas o neuronaes\n",
    "- Incrementar la cantidad de épocas\n",
    "- Agregar BRNN\n",
    "\n",
    "Es importante destacar que en este ejemplo estamos entrenando nuestro propios Embeddings, y para ello se requiere mucha data. En los ejemplos que realizaremos de aquí en más utilizaremos más datos, embeddings pre-enternados o modelos pre-entrenados."
   ]
  },
  {
   "cell_type": "code",
   "execution_count": null,
   "metadata": {},
   "outputs": [],
   "source": []
  }
 ],
 "metadata": {
  "accelerator": "GPU",
  "colab": {
   "authorship_tag": "ABX9TyOkfjJIpCd091Vpf71hUImQ",
   "collapsed_sections": [],
   "name": "4d - predicción_palabra.ipynb",
   "provenance": []
  },
  "kernelspec": {
   "display_name": "Python 3 (ipykernel)",
   "language": "python",
   "name": "python3"
  },
  "language_info": {
   "codemirror_mode": {
    "name": "ipython",
    "version": 3
   },
   "file_extension": ".py",
   "mimetype": "text/x-python",
   "name": "python",
   "nbconvert_exporter": "python",
   "pygments_lexer": "ipython3",
   "version": "3.9.13"
  }
 },
 "nbformat": 4,
 "nbformat_minor": 4
}
