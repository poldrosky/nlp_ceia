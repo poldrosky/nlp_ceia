{
 "cells": [
  {
   "cell_type": "markdown",
   "metadata": {
    "id": "Ue5hxxkdAQJg"
   },
   "source": [
    "<img src=\"https://github.com/FIUBA-Posgrado-Inteligencia-Artificial/procesamiento_lenguaje_natural/raw/main/logoFIUBA.jpg\" width=\"500\" align=\"center\">\n",
    "\n",
    "\n",
    "# Procesamiento de lenguaje natural\n",
    "## Vectorización\n"
   ]
  },
  {
   "cell_type": "code",
   "execution_count": 1,
   "metadata": {
    "id": "kCED1hh-Ioyf"
   },
   "outputs": [],
   "source": [
    "import numpy as np\n",
    "import math"
   ]
  },
  {
   "cell_type": "code",
   "execution_count": 2,
   "metadata": {
    "id": "PUbfVnzIIoMj"
   },
   "outputs": [],
   "source": [
    "def cosine_similarity(a, b):\n",
    "    return np.dot(a, b) / (np.linalg.norm(a) * (np.linalg.norm(b)))"
   ]
  },
  {
   "cell_type": "markdown",
   "metadata": {
    "id": "DMOa4JPSCJ29"
   },
   "source": [
    "### Datos"
   ]
  },
  {
   "cell_type": "code",
   "execution_count": 3,
   "metadata": {
    "id": "RIO7b8GjAC17"
   },
   "outputs": [],
   "source": [
    "corpus = np.array(['que dia es hoy', 'martes el dia de hoy es martes', 'martes muchas gracias'])"
   ]
  },
  {
   "cell_type": "markdown",
   "metadata": {
    "id": "8WqdaTmO8P1r"
   },
   "source": [
    "Documento 1 --> que dia es hoy \\\n",
    "Documento 2 --> martes el dia de hoy es martes \\\n",
    "Documento 3 --> martes muchas gracias"
   ]
  },
  {
   "cell_type": "markdown",
   "metadata": {
    "id": "FVHxBRNzCMOS"
   },
   "source": [
    "### 1 - Obtener el vocabulario del corpus (los términos utilizados)\n",
    "- Cada documento transformarlo en una lista de términos\n",
    "- Armar un vector de términos no repetidos de todos los documentos"
   ]
  },
  {
   "cell_type": "code",
   "execution_count": 4,
   "metadata": {
    "id": "3ZqTOZzDI7uv"
   },
   "outputs": [],
   "source": [
    "def vocabulary(corpus):\n",
    "    words = set()\n",
    "    for sentence in corpus:\n",
    "        for word in sentence.split():\n",
    "            words.add(word)\n",
    "            \n",
    "    return list(words)"
   ]
  },
  {
   "cell_type": "code",
   "execution_count": 5,
   "metadata": {},
   "outputs": [
    {
     "data": {
      "text/plain": [
       "['martes', 'dia', 'el', 'de', 'muchas', 'que', 'hoy', 'gracias', 'es']"
      ]
     },
     "execution_count": 5,
     "metadata": {},
     "output_type": "execute_result"
    }
   ],
   "source": [
    "vocabulary(corpus)"
   ]
  },
  {
   "cell_type": "markdown",
   "metadata": {
    "id": "RUhH983FI7It"
   },
   "source": [
    "### 2- OneHot encoding\n",
    "Data una lista de textos, devolver una matriz con la representación oneHotEncoding de estos"
   ]
  },
  {
   "cell_type": "code",
   "execution_count": 6,
   "metadata": {
    "id": "Os0AAQo6I6Z1"
   },
   "outputs": [],
   "source": [
    "def oneHotEncoding(corpus):\n",
    "    words = vocabulary(corpus)\n",
    "    fmatrix = np.zeros((len(corpus), len(words)))\n",
    "\n",
    "    for i, sentence in enumerate(corpus):\n",
    "        for word in sentence.split():\n",
    "            fmatrix[i][words.index(word)] = 1\n",
    "\n",
    "    return fmatrix"
   ]
  },
  {
   "cell_type": "code",
   "execution_count": 7,
   "metadata": {},
   "outputs": [
    {
     "data": {
      "text/plain": [
       "array([[0., 1., 0., 0., 0., 1., 1., 0., 1.],\n",
       "       [1., 1., 1., 1., 0., 0., 1., 0., 1.],\n",
       "       [1., 0., 0., 0., 1., 0., 0., 1., 0.]])"
      ]
     },
     "execution_count": 7,
     "metadata": {},
     "output_type": "execute_result"
    }
   ],
   "source": [
    "oneHotEncoding(corpus)"
   ]
  },
  {
   "cell_type": "markdown",
   "metadata": {
    "id": "IIyWGmCpJVQL"
   },
   "source": [
    "### 3- Vectores de frecuencia\n",
    "Data una lista de textos, devolver una matriz con la representación de frecuencia de estos"
   ]
  },
  {
   "cell_type": "code",
   "execution_count": 8,
   "metadata": {
    "id": "yqij_7eHJbUi"
   },
   "outputs": [],
   "source": [
    "def frequency_matrix(corpus):\n",
    "    words = vocabulary(corpus)\n",
    "    fmatrix = np.zeros((len(corpus), len(words)))\n",
    "\n",
    "    for i, sentence in enumerate(corpus):\n",
    "        for word in sentence.split():\n",
    "            fmatrix[i][words.index(word)] += 1\n",
    "\n",
    "    return fmatrix"
   ]
  },
  {
   "cell_type": "code",
   "execution_count": 9,
   "metadata": {},
   "outputs": [
    {
     "data": {
      "text/plain": [
       "array([[0., 1., 0., 0., 0., 1., 1., 0., 1.],\n",
       "       [2., 1., 1., 1., 0., 0., 1., 0., 1.],\n",
       "       [1., 0., 0., 0., 1., 0., 0., 1., 0.]])"
      ]
     },
     "execution_count": 9,
     "metadata": {},
     "output_type": "execute_result"
    }
   ],
   "source": [
    "frequency_matrix(corpus)"
   ]
  },
  {
   "cell_type": "markdown",
   "metadata": {
    "id": "z_Ot8HvWJcBu"
   },
   "source": [
    "### 4- TF-IDF\n",
    "Data una lista de textos, devolver una matriz con la representacion TFIDF"
   ]
  },
  {
   "cell_type": "code",
   "execution_count": 10,
   "metadata": {
    "id": "waG_oWtpJjRw"
   },
   "outputs": [],
   "source": [
    "def document_frequency(corpus, word):\n",
    "    frequency = 0\n",
    "\n",
    "    for i, sentence in enumerate(corpus):\n",
    "        for w in sentence.split():\n",
    "            if word == w:\n",
    "                frequency += 1\n",
    "                break\n",
    "\n",
    "    return frequency"
   ]
  },
  {
   "cell_type": "code",
   "execution_count": 11,
   "metadata": {},
   "outputs": [
    {
     "data": {
      "text/plain": [
       "2"
      ]
     },
     "execution_count": 11,
     "metadata": {},
     "output_type": "execute_result"
    }
   ],
   "source": [
    "document_frequency(corpus, 'dia')"
   ]
  },
  {
   "cell_type": "code",
   "execution_count": 12,
   "metadata": {},
   "outputs": [],
   "source": [
    "def tf_idf_matrix(corpus):\n",
    "    words = vocabulary(corpus)\n",
    "    f_matrix = frequency_matrix(corpus)\n",
    "    documents_count = len(corpus)\n",
    "    matrix = np.zeros((documents_count, len(words)))\n",
    "\n",
    "    for i, sentence in enumerate(corpus):\n",
    "        for word in sentence.split():\n",
    "            j = words.index(word)\n",
    "            tf = f_matrix[i][j]\n",
    "            idf = math.log10(documents_count / document_frequency(corpus, word))\n",
    "            matrix[i][j] = tf * idf\n",
    "\n",
    "    return matrix"
   ]
  },
  {
   "cell_type": "code",
   "execution_count": 13,
   "metadata": {},
   "outputs": [
    {
     "data": {
      "text/plain": [
       "array([[0.        , 0.17609126, 0.        , 0.        , 0.        ,\n",
       "        0.47712125, 0.17609126, 0.        , 0.17609126],\n",
       "       [0.35218252, 0.17609126, 0.47712125, 0.47712125, 0.        ,\n",
       "        0.        , 0.17609126, 0.        , 0.17609126],\n",
       "       [0.17609126, 0.        , 0.        , 0.        , 0.47712125,\n",
       "        0.        , 0.        , 0.47712125, 0.        ]])"
      ]
     },
     "execution_count": 13,
     "metadata": {},
     "output_type": "execute_result"
    }
   ],
   "source": [
    "tf_idf_matrix(corpus)"
   ]
  },
  {
   "cell_type": "markdown",
   "metadata": {
    "id": "xMcsfndWJjm_"
   },
   "source": [
    "### 5 - Comparación de documentos\n",
    "Realizar una funcion que reciba el corpus y el índice de un documento y devuelva los documentos ordenados por la similitud coseno"
   ]
  },
  {
   "cell_type": "code",
   "execution_count": 14,
   "metadata": {
    "id": "CZdiop6IJpZN"
   },
   "outputs": [],
   "source": [
    "def similarity_documents(corpus, index, method='tf_idf'):\n",
    "    documents = list()\n",
    "    \n",
    "    if method == 'tf_idf':\n",
    "        matrix = tf_idf_matrix(corpus)\n",
    "        \n",
    "    elif method == 'freq':\n",
    "        matrix = frequency_matrix(corpus)\n",
    "        \n",
    "    elif method == 'oneHotEncoder':\n",
    "        matrix = oneHotEncoding(corpus)\n",
    "        \n",
    "    document = matrix[index]\n",
    "\n",
    "    for i, j in enumerate(matrix):\n",
    "        if i == index:\n",
    "            continue\n",
    "        similarity = cosine_similarity(document, j)\n",
    "        documents.append({'similarity': similarity, 'Sentence': corpus[i]})\n",
    "            \n",
    "    return sorted(documents, key=lambda x: x['similarity'], reverse=True)   "
   ]
  },
  {
   "cell_type": "code",
   "execution_count": 15,
   "metadata": {},
   "outputs": [
    {
     "data": {
      "text/plain": [
       "[{'similarity': 0.10845711727883083,\n",
       "  'Sentence': 'martes el dia de hoy es martes'},\n",
       " {'similarity': 0.0, 'Sentence': 'que dia es hoy'}]"
      ]
     },
     "execution_count": 15,
     "metadata": {},
     "output_type": "execute_result"
    }
   ],
   "source": [
    "similarity_documents(corpus, 2, 'tf_idf')"
   ]
  },
  {
   "cell_type": "code",
   "execution_count": 16,
   "metadata": {},
   "outputs": [
    {
     "data": {
      "text/plain": [
       "[{'similarity': 0.3849001794597505,\n",
       "  'Sentence': 'martes el dia de hoy es martes'},\n",
       " {'similarity': 0.0, 'Sentence': 'que dia es hoy'}]"
      ]
     },
     "execution_count": 16,
     "metadata": {},
     "output_type": "execute_result"
    }
   ],
   "source": [
    "similarity_documents(corpus, 2, 'freq')"
   ]
  },
  {
   "cell_type": "code",
   "execution_count": 17,
   "metadata": {},
   "outputs": [
    {
     "data": {
      "text/plain": [
       "[{'similarity': 0.23570226039551587,\n",
       "  'Sentence': 'martes el dia de hoy es martes'},\n",
       " {'similarity': 0.0, 'Sentence': 'que dia es hoy'}]"
      ]
     },
     "execution_count": 17,
     "metadata": {},
     "output_type": "execute_result"
    }
   ],
   "source": [
    "similarity_documents(corpus, 2, 'oneHotEncoder')"
   ]
  },
  {
   "cell_type": "code",
   "execution_count": null,
   "metadata": {},
   "outputs": [],
   "source": []
  }
 ],
 "metadata": {
  "colab": {
   "authorship_tag": "ABX9TyO5fRYTpympAwJSVbric6dW",
   "collapsed_sections": [],
   "name": "1a - word2vec.ipynb",
   "provenance": []
  },
  "kernelspec": {
   "display_name": "Python 3 (ipykernel)",
   "language": "python",
   "name": "python3"
  },
  "language_info": {
   "codemirror_mode": {
    "name": "ipython",
    "version": 3
   },
   "file_extension": ".py",
   "mimetype": "text/x-python",
   "name": "python",
   "nbconvert_exporter": "python",
   "pygments_lexer": "ipython3",
   "version": "3.9.13"
  }
 },
 "nbformat": 4,
 "nbformat_minor": 4
}
