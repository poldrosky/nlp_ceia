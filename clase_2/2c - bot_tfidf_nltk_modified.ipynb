{
 "cells": [
  {
   "cell_type": "markdown",
   "metadata": {
    "id": "Ue5hxxkdAQJg"
   },
   "source": [
    "<img src=\"https://github.com/hernancontigiani/ceia_memorias_especializacion/raw/master/Figures/logoFIUBA.jpg\" width=\"500\" align=\"center\">\n",
    "\n",
    "\n",
    "# Procesamiento de lenguaje natural\n",
    "## Sistema de obtención de información con NLTK utilizando un corpus de wikipedia\n"
   ]
  },
  {
   "cell_type": "code",
   "execution_count": 1,
   "metadata": {
    "id": "kCED1hh-Ioyf"
   },
   "outputs": [
    {
     "name": "stderr",
     "output_type": "stream",
     "text": [
      "[nltk_data] Downloading package punkt to /Users/poldrosky/nltk_data...\n",
      "[nltk_data]   Package punkt is already up-to-date!\n",
      "[nltk_data] Downloading package wordnet to\n",
      "[nltk_data]     /Users/poldrosky/nltk_data...\n",
      "[nltk_data]   Package wordnet is already up-to-date!\n",
      "[nltk_data] Downloading package omw-1.4 to\n",
      "[nltk_data]     /Users/poldrosky/nltk_data...\n",
      "[nltk_data]   Package omw-1.4 is already up-to-date!\n",
      "[nltk_data] Downloading package stopwords to\n",
      "[nltk_data]     /Users/poldrosky/nltk_data...\n",
      "[nltk_data]   Package stopwords is already up-to-date!\n"
     ]
    },
    {
     "data": {
      "text/plain": [
       "True"
      ]
     },
     "execution_count": 1,
     "metadata": {},
     "output_type": "execute_result"
    }
   ],
   "source": [
    "import json\n",
    "import string\n",
    "import random\n",
    "import re # Regular Expressions (regex)\n",
    "import urllib.request\n",
    "\n",
    "import numpy as np\n",
    "\n",
    "# Para leer y parsear el texto en HTML de wikipedia\n",
    "import bs4 as bs\n",
    "\n",
    "import nltk\n",
    "# Descargar el diccionario\n",
    "nltk.download(\"punkt\")\n",
    "nltk.download(\"wordnet\")\n",
    "nltk.download('omw-1.4')\n",
    "nltk.download('stopwords')"
   ]
  },
  {
   "cell_type": "code",
   "execution_count": 2,
   "metadata": {},
   "outputs": [],
   "source": [
    "stopwords_spanish = nltk.corpus.stopwords.words('spanish')"
   ]
  },
  {
   "cell_type": "markdown",
   "metadata": {
    "id": "DMOa4JPSCJ29"
   },
   "source": [
    "### Datos\n",
    "Se consumirán los datos del artículo de wikipedia sobre DEBIAN"
   ]
  },
  {
   "cell_type": "code",
   "execution_count": 3,
   "metadata": {
    "id": "RIO7b8GjAC17"
   },
   "outputs": [],
   "source": [
    "raw_html = urllib.request.urlopen('https://es.wikipedia.org/wiki/Debian_GNU/Linux')\n",
    "raw_html = raw_html.read()\n",
    "\n",
    "# Parsear artículo, 'lxml' es el parser a utilizar\n",
    "article_html = bs.BeautifulSoup(raw_html, 'lxml')\n",
    "\n",
    "# Encontrar todos los párrafos del HTML (bajo el tag <p>)\n",
    "# y tenerlos disponible como lista\n",
    "article_paragraphs = article_html.find_all('p')\n",
    "\n",
    "article_text = ''\n",
    "\n",
    "for para in article_paragraphs:\n",
    "    article_text += para.text\n",
    "\n",
    "article_text = article_text.lower()"
   ]
  },
  {
   "cell_type": "code",
   "execution_count": 4,
   "metadata": {
    "id": "pUH30a1_rOkS"
   },
   "outputs": [
    {
     "data": {
      "text/plain": [
       "'debian gnu/linux es un sistema operativo libre, desarrollado por miles de voluntarios de todo el mundo, que colaboran a través de internet.\\nla dedicación de debian al software libre, su base de voluntarios, su naturaleza no comercial y su modelo de desarrollo abierto la distingue de otras distribuciones del sistema operativo gnu. todos estos aspectos y más se recogen en el llamado contrato social de debian. debian se caracteriza por no tener las últimas novedades en gnu/linux, pero sí tener el sistema operativo más estable posible. esto se logra por medio de paquetes y librerías antiguas pero con muchos meses de pruebas, asegurando la máxima estabilidad por cada versión que es lanzada por la comunidad de debian.\\nnació en el año 1993, de la mano del proyecto debian, con la idea de crear un sistema gnu usando linux como núcleo. el proyecto debian es la organización responsable de su mantenimiento en la actualidad, y también desarrolla sistemas gnu basados en otros núcleos (debian gnu/hurd, debian gnu/netbsd y debian gnu/kfreebsd).\\nuno de sus principales objetivos es separar en sus versiones el software libre del software no libre. el modelo de desarrollo es independiente a empresas, creado por los propios usuarios, sin depender de ninguna manera de necesidades comerciales. debian no vende directamente su software, sino que lo pone a disposición de cualquiera en internet, aunque sí permite a personas o empresas distribuir comercialmente este software mientras se respete su licencia.\\ndebian gnu/linux puede utilizar distintos mecanismos de instalación, como son: dvd, cd, usb, e incluso directamente desde la red (este último depende de la velocidad de la red del usuario).\\nel proyecto debian fue fundado en el año 1993 por ian murdock, después de haber estudiado en la universidad de purdue. él escribió el manifiesto de debian, que utilizó como base para la creación de la distribución linux debian. dentro de este texto, los puntos destacables son: mantener la distribución de manera abierta, coherente al espíritu del núcleo linux y de gnu.\\nel nombre de este se basa en la combinación del nombre de su entonces novia (posteriormente esposa) \"deborah\" con su propio nombre: \"ian\", formando el acrónimo: debian, pronunciado como las sílabas correspondientes de estos nombres en inglés americano: /dɛbˈiːjən/.\\nel proyecto creció lentamente al principio y lanzó sus primeras versiones 0.9x en 1994 y 1995. las primeras portabilidades a otras arquitecturas fueron a comienzos de 1995, siendo la primera versión 1.x de debian lanzada en 1996.\\nen 1996, bruce perens substituyó a ian murdock como el líder de proyecto. por sugerencia del desarrollador ean schuessler, él dirigió el proceso de actualización del contrato social de debian y de las pautas del software de debian libremente, definiendo los puntos fundamentales para el desarrollo de la distribución. él también inició la creación de la licencia de software legal de la organización.\\nbruce perens se retiró en 1998, antes del lanzamiento de la primera versión debian basada en glibc, bautizada como debian 2.0. el proyecto procedió a elegir a nuevos líderes y a hacer dos revisiones de la versión 2.x, cada una incluyendo más portabilidades a otras arquitecturas y más paquetes. convenientemente  fue lanzado durante este periodo y la primera portabilidad a un núcleo no basado en el núcleo linux, debian gnu/hurd. las primeras distribuciones de linux basadas en debian, corel linux y la stormix\\'s linux de stormix, fueron comenzadas en 1999. aunque no estuvieron desarrolladas por mucho tiempo, estas distribuciones eran las primeras de muchas distribuciones basadas en debian.\\na finales de 2000, el proyecto realizó el mayor cambio a la estructura de los archivos y la organización de las versiones, reorganizando los procesos de liberación de paquetes del software con el nuevo \"package pools\" y creando una rama de prueba, relativamente estable para el lanzamiento siguiente. en 2001, los desarrolladores comenzaron a llevar a cabo una conferencia anual llamada: debconf, con negociaciones y los talleres para los desarrolladores y los usuarios técnicos.\\ndebian se caracteriza por:\\nlos nombres de las versiones de debian linux son tomados de la película toy story. hasta la fecha, ha habido 12 versiones estables (con sus respectivas revisiones), siendo la actual la 11.0 \"bullseye\". con su publicación: \"buster\", pasó a ser la versión estable antigua (\"oldstable\"), y la actual versión en pruebas (\"testing\") se denomina \"bookworm\".\\nel desarrollo día a día tiene lugar en la versión inestable (\"unstable\"); rama que aparece codificada de forma permanente con el nombre \"sid\".\\n\\nincluye configuración automática del sistema gráfico en la mayor parte de hardware existente, soporte completo al sistema de ficheros ntfs, autoconfiguración de la mayor parte de las teclas multimedia, soporte para el formato de archivos flash de adobe a través de los complementos swfdec o gnash, herramientas propias para ordenadores portátiles (como el soporte integrado del escalado de frecuencia de la cpu), entre otras características.\\nadicionalmente, la adaptación de ia-64 y sparc se han eliminado de esta publicación debido a que no hay suficiente soporte por parte de los desarrolladores.\\nlos paquetes de software en desarrollo son subidos a unas ramas llamadas: inestable (unstable) y experimentales. normalmente, los paquetes de software son subidos a \"inestable\" por las versiones lanzadas \"estables\" por el desarrollador original de la aplicación, pero con el empaquetado y otras modificaciones específicas de debian introducidas por los desarrolladores. el software que es \"inestable\" o no se encuentra listo para la rama inestable se pone típicamente en \"experimental\".\\ncronología de debian gnu/linux y proyectos relacionados, hasta 2012.\\n'"
      ]
     },
     "execution_count": 4,
     "metadata": {},
     "output_type": "execute_result"
    }
   ],
   "source": [
    "# Demos un vistazo\n",
    "article_text"
   ]
  },
  {
   "cell_type": "code",
   "execution_count": 5,
   "metadata": {
    "id": "BtGLJjt6rQhK"
   },
   "outputs": [
    {
     "name": "stdout",
     "output_type": "stream",
     "text": [
      "Cantidad de caracteres en la nota: 5816\n"
     ]
    }
   ],
   "source": [
    "print(\"Cantidad de caracteres en la nota:\", len(article_text))"
   ]
  },
  {
   "cell_type": "markdown",
   "metadata": {
    "id": "FVHxBRNzCMOS"
   },
   "source": [
    "### 2 - Preprocesamiento\n",
    "- Remover caracteres especiales\n",
    "- Quitar espacios o saltos"
   ]
  },
  {
   "cell_type": "code",
   "execution_count": 6,
   "metadata": {
    "id": "HnEUTD1Erl1N"
   },
   "outputs": [],
   "source": [
    "# Repaso de regex:\n",
    "# https://docs.python.org/3/library/re.html\n",
    "\n",
    "# Para practicar regex:\n",
    "# https://regex101.com/\n",
    "\n",
    "# el inicio con 'r' antes de cada string indica que se interprete como raw string\n",
    "# '\\n' es interpretado por Python como salto de linea\n",
    "# r'\\n' es interpretado por Python como el string formado por dos caracteres: \n",
    "#  backslash y n\n",
    "\n",
    "# substituir con regex con espacio vacío:\n",
    "text = re.sub(r'\\[[0-9]*\\]', ' ', article_text) # substituir los números entre corchetes\n",
    "# (notar que los corchetes son interpretados literalmente por los backlsash)\n",
    "text = re.sub(r'\\s+', ' ', text) # substituir más de un caracter de espacio, salto de línea o tabulación\n",
    "\n",
    "# probar en regex101 con los patrones anteriores:\n",
    "# 'Hola [1], [], [ estoy bien   [123]. [12sss]. OK!   .'"
   ]
  },
  {
   "cell_type": "code",
   "execution_count": 7,
   "metadata": {
    "id": "g7ycrAMYrn66"
   },
   "outputs": [
    {
     "data": {
      "text/plain": [
       "'debian gnu/linux es un sistema operativo libre, desarrollado por miles de voluntarios de todo el mundo, que colaboran a través de internet. la dedicación de debian al software libre, su base de voluntarios, su naturaleza no comercial y su modelo de desarrollo abierto la distingue de otras distribuciones del sistema operativo gnu. todos estos aspectos y más se recogen en el llamado contrato social de debian. debian se caracteriza por no tener las últimas novedades en gnu/linux, pero sí tener el sistema operativo más estable posible. esto se logra por medio de paquetes y librerías antiguas pero con muchos meses de pruebas, asegurando la máxima estabilidad por cada versión que es lanzada por la comunidad de debian. nació en el año 1993, de la mano del proyecto debian, con la idea de crear un sistema gnu usando linux como núcleo. el proyecto debian es la organización responsable de su mantenimiento en la actualidad, y también desarrolla sistemas gnu basados en otros núcleos (debian gnu/hurd, debian gnu/netbsd y debian gnu/kfreebsd). uno de sus principales objetivos es separar en sus versiones el software libre del software no libre. el modelo de desarrollo es independiente a empresas, creado por los propios usuarios, sin depender de ninguna manera de necesidades comerciales. debian no vende directamente su software, sino que lo pone a disposición de cualquiera en internet, aunque sí permite a personas o empresas distribuir comercialmente este software mientras se respete su licencia. debian gnu/linux puede utilizar distintos mecanismos de instalación, como son: dvd, cd, usb, e incluso directamente desde la red (este último depende de la velocidad de la red del usuario). el proyecto debian fue fundado en el año 1993 por ian murdock, después de haber estudiado en la universidad de purdue. él escribió el manifiesto de debian, que utilizó como base para la creación de la distribución linux debian. dentro de este texto, los puntos destacables son: mantener la distribución de manera abierta, coherente al espíritu del núcleo linux y de gnu. el nombre de este se basa en la combinación del nombre de su entonces novia (posteriormente esposa) \"deborah\" con su propio nombre: \"ian\", formando el acrónimo: debian, pronunciado como las sílabas correspondientes de estos nombres en inglés americano: /dɛbˈiːjən/. el proyecto creció lentamente al principio y lanzó sus primeras versiones 0.9x en 1994 y 1995. las primeras portabilidades a otras arquitecturas fueron a comienzos de 1995, siendo la primera versión 1.x de debian lanzada en 1996. en 1996, bruce perens substituyó a ian murdock como el líder de proyecto. por sugerencia del desarrollador ean schuessler, él dirigió el proceso de actualización del contrato social de debian y de las pautas del software de debian libremente, definiendo los puntos fundamentales para el desarrollo de la distribución. él también inició la creación de la licencia de software legal de la organización. bruce perens se retiró en 1998, antes del lanzamiento de la primera versión debian basada en glibc, bautizada como debian 2.0. el proyecto procedió a elegir a nuevos líderes y a hacer dos revisiones de la versión 2.x, cada una incluyendo más portabilidades a otras arquitecturas y más paquetes. convenientemente fue lanzado durante este periodo y la primera portabilidad a un núcleo no basado en el núcleo linux, debian gnu/hurd. las primeras distribuciones de linux basadas en debian, corel linux y la stormix\\'s linux de stormix, fueron comenzadas en 1999. aunque no estuvieron desarrolladas por mucho tiempo, estas distribuciones eran las primeras de muchas distribuciones basadas en debian. a finales de 2000, el proyecto realizó el mayor cambio a la estructura de los archivos y la organización de las versiones, reorganizando los procesos de liberación de paquetes del software con el nuevo \"package pools\" y creando una rama de prueba, relativamente estable para el lanzamiento siguiente. en 2001, los desarrolladores comenzaron a llevar a cabo una conferencia anual llamada: debconf, con negociaciones y los talleres para los desarrolladores y los usuarios técnicos. debian se caracteriza por: los nombres de las versiones de debian linux son tomados de la película toy story. hasta la fecha, ha habido 12 versiones estables (con sus respectivas revisiones), siendo la actual la 11.0 \"bullseye\". con su publicación: \"buster\", pasó a ser la versión estable antigua (\"oldstable\"), y la actual versión en pruebas (\"testing\") se denomina \"bookworm\". el desarrollo día a día tiene lugar en la versión inestable (\"unstable\"); rama que aparece codificada de forma permanente con el nombre \"sid\". incluye configuración automática del sistema gráfico en la mayor parte de hardware existente, soporte completo al sistema de ficheros ntfs, autoconfiguración de la mayor parte de las teclas multimedia, soporte para el formato de archivos flash de adobe a través de los complementos swfdec o gnash, herramientas propias para ordenadores portátiles (como el soporte integrado del escalado de frecuencia de la cpu), entre otras características. adicionalmente, la adaptación de ia-64 y sparc se han eliminado de esta publicación debido a que no hay suficiente soporte por parte de los desarrolladores. los paquetes de software en desarrollo son subidos a unas ramas llamadas: inestable (unstable) y experimentales. normalmente, los paquetes de software son subidos a \"inestable\" por las versiones lanzadas \"estables\" por el desarrollador original de la aplicación, pero con el empaquetado y otras modificaciones específicas de debian introducidas por los desarrolladores. el software que es \"inestable\" o no se encuentra listo para la rama inestable se pone típicamente en \"experimental\". cronología de debian gnu/linux y proyectos relacionados, hasta 2012. '"
      ]
     },
     "execution_count": 7,
     "metadata": {},
     "output_type": "execute_result"
    }
   ],
   "source": [
    "# Demos un vistazo\n",
    "text"
   ]
  },
  {
   "cell_type": "code",
   "execution_count": 8,
   "metadata": {
    "id": "PA5F0s4UsMpf"
   },
   "outputs": [
    {
     "name": "stdout",
     "output_type": "stream",
     "text": [
      "Cantidad de caracteres en el texto: 5814\n"
     ]
    }
   ],
   "source": [
    "print(\"Cantidad de caracteres en el texto:\", len(text))"
   ]
  },
  {
   "cell_type": "markdown",
   "metadata": {
    "id": "DKNcDGcisajf"
   },
   "source": [
    "### 3 - Dividir el texto en sentencias y en palabras"
   ]
  },
  {
   "cell_type": "code",
   "execution_count": 9,
   "metadata": {
    "id": "reXBOFQ7sdlB"
   },
   "outputs": [],
   "source": [
    "corpus = nltk.sent_tokenize(text) # divide en oraciones\n",
    "words = nltk.word_tokenize(text) # divide en términos"
   ]
  },
  {
   "cell_type": "code",
   "execution_count": 10,
   "metadata": {
    "id": "J5GloV9fsi6o"
   },
   "outputs": [
    {
     "data": {
      "text/plain": [
       "['debian gnu/linux es un sistema operativo libre, desarrollado por miles de voluntarios de todo el mundo, que colaboran a través de internet.',\n",
       " 'la dedicación de debian al software libre, su base de voluntarios, su naturaleza no comercial y su modelo de desarrollo abierto la distingue de otras distribuciones del sistema operativo gnu.',\n",
       " 'todos estos aspectos y más se recogen en el llamado contrato social de debian.',\n",
       " 'debian se caracteriza por no tener las últimas novedades en gnu/linux, pero sí tener el sistema operativo más estable posible.',\n",
       " 'esto se logra por medio de paquetes y librerías antiguas pero con muchos meses de pruebas, asegurando la máxima estabilidad por cada versión que es lanzada por la comunidad de debian.',\n",
       " 'nació en el año 1993, de la mano del proyecto debian, con la idea de crear un sistema gnu usando linux como núcleo.',\n",
       " 'el proyecto debian es la organización responsable de su mantenimiento en la actualidad, y también desarrolla sistemas gnu basados en otros núcleos (debian gnu/hurd, debian gnu/netbsd y debian gnu/kfreebsd).',\n",
       " 'uno de sus principales objetivos es separar en sus versiones el software libre del software no libre.',\n",
       " 'el modelo de desarrollo es independiente a empresas, creado por los propios usuarios, sin depender de ninguna manera de necesidades comerciales.',\n",
       " 'debian no vende directamente su software, sino que lo pone a disposición de cualquiera en internet, aunque sí permite a personas o empresas distribuir comercialmente este software mientras se respete su licencia.']"
      ]
     },
     "execution_count": 10,
     "metadata": {},
     "output_type": "execute_result"
    }
   ],
   "source": [
    "# Demos un vistazo\n",
    "corpus[:10]"
   ]
  },
  {
   "cell_type": "code",
   "execution_count": 11,
   "metadata": {
    "id": "hmQ7nkvvsi0i"
   },
   "outputs": [
    {
     "data": {
      "text/plain": [
       "['debian',\n",
       " 'gnu/linux',\n",
       " 'es',\n",
       " 'un',\n",
       " 'sistema',\n",
       " 'operativo',\n",
       " 'libre',\n",
       " ',',\n",
       " 'desarrollado',\n",
       " 'por',\n",
       " 'miles',\n",
       " 'de',\n",
       " 'voluntarios',\n",
       " 'de',\n",
       " 'todo',\n",
       " 'el',\n",
       " 'mundo',\n",
       " ',',\n",
       " 'que',\n",
       " 'colaboran']"
      ]
     },
     "execution_count": 11,
     "metadata": {},
     "output_type": "execute_result"
    }
   ],
   "source": [
    "# Demos un vistazo\n",
    "words[:20]"
   ]
  },
  {
   "cell_type": "code",
   "execution_count": 12,
   "metadata": {
    "id": "YXPWNkKfEvDZ"
   },
   "outputs": [
    {
     "name": "stdout",
     "output_type": "stream",
     "text": [
      "Vocabulario: 1046\n"
     ]
    }
   ],
   "source": [
    "print(\"Vocabulario:\", len(words))"
   ]
  },
  {
   "cell_type": "markdown",
   "metadata": {
    "id": "NlYKyb3OtDse"
   },
   "source": [
    "### 4 - Funciones de ayuda para limpiar y procesar el input del usuario\n",
    "- Lematizar los tokens de la oración\n",
    "- Quitar símbolos de puntuación"
   ]
  },
  {
   "cell_type": "code",
   "execution_count": 13,
   "metadata": {
    "id": "afPok8pstPOx"
   },
   "outputs": [],
   "source": [
    "from nltk.stem import WordNetLemmatizer\n",
    "lemmatizer = WordNetLemmatizer()\n",
    "\n",
    "def perform_lemmatization(tokens):\n",
    "    return [lemmatizer.lemmatize(token) for token in tokens]\n",
    "\n",
    "# ord() nos da el código Unicode para un caracter dado\n",
    "punctuation_removal = dict((ord(punctuation), None) for punctuation in string.punctuation)\n",
    "\n",
    "def get_processed_text(document):\n",
    "    # 1 - reduce el texto a mínuscula (string.lower())\n",
    "    # 2 - quitar los simbolos de puntuacion (string.translate())\n",
    "    # 3 - realiza la tokenización (nltk.word_tokenize)\n",
    "    # 4 - realiza la lematización (nuestra función perform_lemmatization)\n",
    "    return perform_lemmatization(nltk.word_tokenize(document.lower().translate(punctuation_removal)))"
   ]
  },
  {
   "cell_type": "markdown",
   "metadata": {
    "id": "Jl8r6d9ZuyR9"
   },
   "source": [
    "### 5 - Utilizar vectores TF-IDF y la similitud coseno construido con el corpus del artículo de wikipedia"
   ]
  },
  {
   "cell_type": "code",
   "execution_count": 14,
   "metadata": {
    "id": "IRYFHcBfk2Gt"
   },
   "outputs": [],
   "source": [
    "from sklearn.feature_extraction.text import TfidfVectorizer\n",
    "from sklearn.metrics.pairwise import cosine_similarity\n",
    "\n",
    "def generate_response(user_input, corpus):\n",
    "    response = ''\n",
    "    # Sumar al corpus la pregunta del usuario para calcular\n",
    "    # su cercania con otros documentos/sentencias\n",
    "    # la entrada del usuario se usa para tokenizar y vectorizar\n",
    "    corpus.append(user_input)\n",
    "\n",
    "    # Crear un vectorizar TFIDF que quite las \"stop words\" del ingles y utilice\n",
    "    # nuestra funcion para obtener los tokens lematizados \"get_processed_text\"\n",
    "    word_vectorizer = TfidfVectorizer(tokenizer=get_processed_text, stop_words=stopwords_spanish)\n",
    "\n",
    "    # Crear los vectores a partir del corpus\n",
    "    all_word_vectors = word_vectorizer.fit_transform(corpus)\n",
    "\n",
    "    # Calcular la similitud coseno entre todas los documentos excepto el agregado (el útlimo \"-1\")\n",
    "    # NOTA: con los word embedings veremos más en detalle esta matriz de similitud\n",
    "    similar_vector_values = cosine_similarity(all_word_vectors[-1], all_word_vectors)\n",
    "\n",
    "    # Obtener el índice del vector más cercano a nuestra oración\n",
    "    # --> descartando la similitud contra nuestor vector propio\n",
    "    similar_sentence_number = similar_vector_values.argsort()[0][-2]\n",
    "    matched_vector = similar_vector_values.flatten()\n",
    "    matched_vector.sort()\n",
    "    vector_matched = matched_vector[-2]\n",
    "\n",
    "    if vector_matched == 0: # si la similaridad coseno fue nula (ningún término en común)\n",
    "        response = \"Lo sieto, no puedo entenderte\"\n",
    "    else:\n",
    "        response = corpus[similar_sentence_number] # obtener el documento del corpus más similar\n",
    "    \n",
    "    corpus.remove(user_input)\n",
    "    return response"
   ]
  },
  {
   "cell_type": "markdown",
   "metadata": {
    "id": "OK-BuXPBybSp"
   },
   "source": [
    "### 6 - Ensayar el sistema\n",
    "El sistema intentará encontrar la parte del artículo que más se relaciona con nuestro texto de entrada. Sugerencias a ensayar:\n",
    "- Software Libre\n",
    "- Toy Story\n",
    "- Por quien fue fundado?\n",
    "- Distribuciones"
   ]
  },
  {
   "cell_type": "code",
   "execution_count": 15,
   "metadata": {
    "id": "Z2X4j8XyydSb"
   },
   "outputs": [],
   "source": [
    "# Se utilizará gradio para ensayar el bot\n",
    "# Herramienta poderosa para crear interfaces rápidas para ensayar modelos\n",
    "# https://gradio.app/\n",
    "# import sys\n",
    "# !{sys.executable} -m pip install gradio --quiet"
   ]
  },
  {
   "cell_type": "code",
   "execution_count": 16,
   "metadata": {
    "id": "SZv5MiVzynG1"
   },
   "outputs": [
    {
     "name": "stdout",
     "output_type": "stream",
     "text": [
      "IMPORTANT: You are using gradio version 2.6.4, however version 3.14.0 is available, please upgrade.\n",
      "--------\n",
      "Running on local URL:  http://127.0.0.1:7861/\n",
      "\n",
      "To create a public link, set `share=True` in `launch()`.\n"
     ]
    },
    {
     "data": {
      "text/html": [
       "\n",
       "        <iframe\n",
       "            width=\"900\"\n",
       "            height=\"500\"\n",
       "            src=\"http://127.0.0.1:7861/\"\n",
       "            frameborder=\"0\"\n",
       "            allowfullscreen\n",
       "            \n",
       "        ></iframe>\n",
       "        "
      ],
      "text/plain": [
       "<IPython.lib.display.IFrame at 0x7fa319815b20>"
      ]
     },
     "metadata": {},
     "output_type": "display_data"
    },
    {
     "name": "stdout",
     "output_type": "stream",
     "text": [
      "Q: Software Libre\n",
      "A: uno de sus principales objetivos es separar en sus versiones el software libre del software no libre.\n",
      "Q: Toy Story\n",
      "A: debian se caracteriza por: los nombres de las versiones de debian linux son tomados de la película toy story.\n",
      "Q: Por quien fue fundado?\n",
      "A: el proyecto debian fue fundado en el año 1993 por ian murdock, después de haber estudiado en la universidad de purdue.\n",
      "Q: Distribuciones\n",
      "A: las primeras distribuciones de linux basadas en debian, corel linux y la stormix's linux de stormix, fueron comenzadas en 1999. aunque no estuvieron desarrolladas por mucho tiempo, estas distribuciones eran las primeras de muchas distribuciones basadas en debian.\n"
     ]
    },
    {
     "ename": "KeyboardInterrupt",
     "evalue": "",
     "output_type": "error",
     "traceback": [
      "\u001b[0;31m---------------------------------------------------------------------------\u001b[0m",
      "\u001b[0;31mKeyboardInterrupt\u001b[0m                         Traceback (most recent call last)",
      "\u001b[0;32m/var/folders/4l/djq4w_j528l0kn8vz8grry4m0000gn/T/ipykernel_26482/1968786774.py\u001b[0m in \u001b[0;36m<module>\u001b[0;34m\u001b[0m\n\u001b[1;32m     13\u001b[0m     layout=\"vertical\")\n\u001b[1;32m     14\u001b[0m \u001b[0;34m\u001b[0m\u001b[0m\n\u001b[0;32m---> 15\u001b[0;31m \u001b[0miface\u001b[0m\u001b[0;34m.\u001b[0m\u001b[0mlaunch\u001b[0m\u001b[0;34m(\u001b[0m\u001b[0mdebug\u001b[0m\u001b[0;34m=\u001b[0m\u001b[0;32mTrue\u001b[0m\u001b[0;34m)\u001b[0m\u001b[0;34m\u001b[0m\u001b[0;34m\u001b[0m\u001b[0m\n\u001b[0m",
      "\u001b[0;32m/usr/local/anaconda3/lib/python3.9/site-packages/gradio/interface.py\u001b[0m in \u001b[0;36mlaunch\u001b[0;34m(self, inline, inbrowser, share, debug, auth, auth_message, private_endpoint, prevent_thread_lock, show_error, server_name, server_port, show_tips, enable_queue, height, width, encrypt, cache_examples)\u001b[0m\n\u001b[1;32m    615\u001b[0m             \u001b[0;32mwhile\u001b[0m \u001b[0;32mTrue\u001b[0m\u001b[0;34m:\u001b[0m\u001b[0;34m\u001b[0m\u001b[0;34m\u001b[0m\u001b[0m\n\u001b[1;32m    616\u001b[0m                 \u001b[0msys\u001b[0m\u001b[0;34m.\u001b[0m\u001b[0mstdout\u001b[0m\u001b[0;34m.\u001b[0m\u001b[0mflush\u001b[0m\u001b[0;34m(\u001b[0m\u001b[0;34m)\u001b[0m\u001b[0;34m\u001b[0m\u001b[0;34m\u001b[0m\u001b[0m\n\u001b[0;32m--> 617\u001b[0;31m                 \u001b[0mtime\u001b[0m\u001b[0;34m.\u001b[0m\u001b[0msleep\u001b[0m\u001b[0;34m(\u001b[0m\u001b[0;36m0.1\u001b[0m\u001b[0;34m)\u001b[0m\u001b[0;34m\u001b[0m\u001b[0;34m\u001b[0m\u001b[0m\n\u001b[0m\u001b[1;32m    618\u001b[0m         is_in_interactive_mode = bool(\n\u001b[1;32m    619\u001b[0m             getattr(sys, 'ps1', sys.flags.interactive))\n",
      "\u001b[0;31mKeyboardInterrupt\u001b[0m: "
     ]
    }
   ],
   "source": [
    "import gradio as gr\n",
    "\n",
    "def bot_response(human_text):\n",
    "    print(\"Q:\", human_text)    \n",
    "    resp = generate_response(human_text.lower(), corpus)\n",
    "    print(\"A:\", resp)\n",
    "    return resp\n",
    "\n",
    "iface = gr.Interface(\n",
    "    fn=bot_response,\n",
    "    inputs=[\"textbox\"],\n",
    "    outputs=\"text\",\n",
    "    layout=\"vertical\")\n",
    "\n",
    "iface.launch(debug=True)"
   ]
  },
  {
   "cell_type": "markdown",
   "metadata": {},
   "source": [
    "### Alumno"
   ]
  },
  {
   "cell_type": "markdown",
   "metadata": {},
   "source": [
    "- Tomar un ejemplo de los bots utilizados (uno de los dos) y construir el propio.\n",
    "- Sacar conclusiones de los resultados.\n",
    "\n",
    "__IMPORTANTE__: Recuerde para la entrega del ejercicio debe quedar registrado en el colab las preguntas y las respuestas del BOT para que podamos evaluar el desempeño final."
   ]
  },
  {
   "cell_type": "code",
   "execution_count": null,
   "metadata": {},
   "outputs": [],
   "source": []
  }
 ],
 "metadata": {
  "colab": {
   "collapsed_sections": [],
   "name": "2c - bot_tfidf_nltk.ipynb",
   "provenance": []
  },
  "kernelspec": {
   "display_name": "Python 3 (ipykernel)",
   "language": "python",
   "name": "python3"
  },
  "language_info": {
   "codemirror_mode": {
    "name": "ipython",
    "version": 3
   },
   "file_extension": ".py",
   "mimetype": "text/x-python",
   "name": "python",
   "nbconvert_exporter": "python",
   "pygments_lexer": "ipython3",
   "version": "3.9.13"
  }
 },
 "nbformat": 4,
 "nbformat_minor": 4
}
